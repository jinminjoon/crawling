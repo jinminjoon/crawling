{
 "cells": [
  {
   "cell_type": "code",
   "execution_count": 11,
   "id": "cd12d16d",
   "metadata": {},
   "outputs": [],
   "source": [
    "import requests\n",
    "from bs4 import BeautifulSoup\n",
    "from fake_useragent import UserAgent\n",
    "import ssl\n",
    "import selenium\n",
    "from selenium import webdriver\n",
    "import time\n",
    "from selenium.webdriver.support.ui import WebDriverWait\n",
    "from selenium.webdriver.support import expected_conditions as EC\n",
    "from selenium.webdriver.common.by import By\n",
    "from selenium.webdriver.common.keys import Keys\n",
    "from bs4 import BeautifulSoup as BS\n",
    "import pandas as pd\n",
    "ssl._create_default_https_context\n",
    "user_agent = UserAgent()\n",
    "headers = {'User-Agent': user_agent.random}"
   ]
  },
  {
   "cell_type": "code",
   "execution_count": 12,
   "id": "0fc88291",
   "metadata": {},
   "outputs": [],
   "source": [
    "url = 'https://www.oliveyoung.co.kr/store/goods/getGoodsDetail.do?goodsNo=A000000184128&dispCatNo=10000010001&trackingCd=Cat10000010001_Clickbest&curation=like&egcode=c001_c001&rccode=pc_category_01_a&egrankcode=1&t_page=카테고리관&t_click=많이본상품&t_number=1'"
   ]
  },
  {
   "cell_type": "code",
   "execution_count": 15,
   "id": "75b10236",
   "metadata": {},
   "outputs": [
    {
     "name": "stdout",
     "output_type": "stream",
     "text": [
      "에스트라 아토베리어365 크림 80ml 기획 (+하이드로에센스 25ml+무기자차선크림10ml 증정)\n",
      "현재페이지는1페이지 입니다.\n"
     ]
    },
    {
     "ename": "TimeoutException",
     "evalue": "Message: \nStacktrace:\n\tGetHandleVerifier [0x00007FF7AC4382B2+55298]\n\t(No symbol) [0x00007FF7AC3A5E02]\n\t(No symbol) [0x00007FF7AC2605AB]\n\t(No symbol) [0x00007FF7AC2A175C]\n\t(No symbol) [0x00007FF7AC2A18DC]\n\t(No symbol) [0x00007FF7AC2DCBC7]\n\t(No symbol) [0x00007FF7AC2C20EF]\n\t(No symbol) [0x00007FF7AC2DAAA4]\n\t(No symbol) [0x00007FF7AC2C1E83]\n\t(No symbol) [0x00007FF7AC29670A]\n\t(No symbol) [0x00007FF7AC297964]\n\tGetHandleVerifier [0x00007FF7AC7B0AAB+3694587]\n\tGetHandleVerifier [0x00007FF7AC80728E+4048862]\n\tGetHandleVerifier [0x00007FF7AC7FF173+4015811]\n\tGetHandleVerifier [0x00007FF7AC4D47D6+695590]\n\t(No symbol) [0x00007FF7AC3B0CE8]\n\t(No symbol) [0x00007FF7AC3ACF34]\n\t(No symbol) [0x00007FF7AC3AD062]\n\t(No symbol) [0x00007FF7AC39D3A3]\n\tBaseThreadInitThunk [0x00007FFE83D1257D+29]\n\tRtlUserThreadStart [0x00007FFE850CAA58+40]\n",
     "output_type": "error",
     "traceback": [
      "\u001b[1;31m---------------------------------------------------------------------------\u001b[0m",
      "\u001b[1;31mTimeoutException\u001b[0m                          Traceback (most recent call last)",
      "Cell \u001b[1;32mIn[15], line 72\u001b[0m\n\u001b[0;32m     70\u001b[0m \u001b[38;5;28;01mfinally\u001b[39;00m:\n\u001b[0;32m     71\u001b[0m     xpath \u001b[38;5;241m=\u001b[39m \u001b[38;5;124mf\u001b[39m\u001b[38;5;124m'\u001b[39m\u001b[38;5;124m/html/body/div[3]/div[8]/div/div[10]/div/div[6]/a[\u001b[39m\u001b[38;5;132;01m{\u001b[39;00mi\u001b[38;5;132;01m}\u001b[39;00m\u001b[38;5;124m]\u001b[39m\u001b[38;5;124m'\u001b[39m\n\u001b[1;32m---> 72\u001b[0m     page_button \u001b[38;5;241m=\u001b[39m wait\u001b[38;5;241m.\u001b[39muntil(EC\u001b[38;5;241m.\u001b[39mpresence_of_element_located((By\u001b[38;5;241m.\u001b[39mXPATH, xpath)))\n\u001b[0;32m     73\u001b[0m     page_button\u001b[38;5;241m.\u001b[39mclick()\n\u001b[0;32m     74\u001b[0m     time\u001b[38;5;241m.\u001b[39msleep(\u001b[38;5;241m2\u001b[39m)    \n",
      "File \u001b[1;32m~\\anaconda3\\Lib\\site-packages\\selenium\\webdriver\\support\\wait.py:95\u001b[0m, in \u001b[0;36mWebDriverWait.until\u001b[1;34m(self, method, message)\u001b[0m\n\u001b[0;32m     93\u001b[0m     \u001b[38;5;28;01mif\u001b[39;00m time\u001b[38;5;241m.\u001b[39mmonotonic() \u001b[38;5;241m>\u001b[39m end_time:\n\u001b[0;32m     94\u001b[0m         \u001b[38;5;28;01mbreak\u001b[39;00m\n\u001b[1;32m---> 95\u001b[0m \u001b[38;5;28;01mraise\u001b[39;00m TimeoutException(message, screen, stacktrace)\n",
      "\u001b[1;31mTimeoutException\u001b[0m: Message: \nStacktrace:\n\tGetHandleVerifier [0x00007FF7AC4382B2+55298]\n\t(No symbol) [0x00007FF7AC3A5E02]\n\t(No symbol) [0x00007FF7AC2605AB]\n\t(No symbol) [0x00007FF7AC2A175C]\n\t(No symbol) [0x00007FF7AC2A18DC]\n\t(No symbol) [0x00007FF7AC2DCBC7]\n\t(No symbol) [0x00007FF7AC2C20EF]\n\t(No symbol) [0x00007FF7AC2DAAA4]\n\t(No symbol) [0x00007FF7AC2C1E83]\n\t(No symbol) [0x00007FF7AC29670A]\n\t(No symbol) [0x00007FF7AC297964]\n\tGetHandleVerifier [0x00007FF7AC7B0AAB+3694587]\n\tGetHandleVerifier [0x00007FF7AC80728E+4048862]\n\tGetHandleVerifier [0x00007FF7AC7FF173+4015811]\n\tGetHandleVerifier [0x00007FF7AC4D47D6+695590]\n\t(No symbol) [0x00007FF7AC3B0CE8]\n\t(No symbol) [0x00007FF7AC3ACF34]\n\t(No symbol) [0x00007FF7AC3AD062]\n\t(No symbol) [0x00007FF7AC39D3A3]\n\tBaseThreadInitThunk [0x00007FFE83D1257D+29]\n\tRtlUserThreadStart [0x00007FFE850CAA58+40]\n"
     ]
    }
   ],
   "source": [
    "name_ids = []\n",
    "ratings = []\n",
    "reviews = []\n",
    "product_names = []\n",
    "driver = webdriver.Chrome()\n",
    "driver.maximize_window()\n",
    "driver.get(url)\n",
    "time.sleep(1.6)\n",
    "wait = WebDriverWait(driver, 10)\n",
    "product_nm1 = wait.until(EC.presence_of_element_located((By.XPATH, '/html/body/div[3]/div[8]/div/div[2]')))\n",
    "product_nm = driver.find_element(By.XPATH, '/html/body/div[3]/div[8]/div/div[2]')\n",
    "_product_nm = BS(product_nm.get_attribute('innerHTML'), 'html.parser')\n",
    "try:\n",
    "    pr_nm = _product_nm.find('div',class_='right_area').find('p',class_='prd_name').text.strip()\n",
    "    print(pr_nm)\n",
    "    product_names.append(pr_nm)\n",
    "except:\n",
    "    pr_nm = \"error\"\n",
    "    product_names.append(pr_nm)\n",
    "    pass\n",
    "driver.execute_script(\"window.scrollTo(0,800)\")\n",
    "wait = WebDriverWait(driver, 10)\n",
    "review_button = wait.until(EC.presence_of_element_located((By.XPATH, '/html/body/div[3]/div[8]/div/ul')))\n",
    "driver.execute_script(\"window.scrollTo(0, 870)\")\n",
    "time.sleep(2)\n",
    "review_button.click()\n",
    "time.sleep(5)\n",
    "driver.execute_script(\"window.scrollTo(0, 7300)\")\n",
    "#print(\"hi1\")\n",
    "table1 = wait.until(EC.presence_of_element_located((By.XPATH, '//*[@id=\"gdasContentsArea\"]/div/div[7]')))\n",
    "table = driver.find_element(By.XPATH,'//*[@id=\"gdasContentsArea\"]/div/div[7]')\n",
    "_table = BS(table.get_attribute('innerHTML'), 'html.parser')\n",
    "for tt in _table.find_all('li'):\n",
    "    try:\n",
    "        rating = tt.find('span', class_='review_point').text\n",
    "        rating = rating.split(' ')[1]\n",
    "        rating = rating.split('점')[0]\n",
    "        ratings.append(rating)\n",
    "    except:\n",
    "        rating = \"error\"\n",
    "        ratings.append(rating)\n",
    "        pass\n",
    "    try:\n",
    "        review = tt.find('div', class_= 'txt_inner').text\n",
    "        reviews.append(reivew)\n",
    "    except:\n",
    "        review =\"error\"\n",
    "        reviews.append(review)\n",
    "        pass\n",
    "    try:\n",
    "        name_id = tt.find('p',class_='info_user').find('a').text\n",
    "        name_ids.append(name_id)\n",
    "    except:\n",
    "        name_id = \"error\"\n",
    "        name_ids.append(name_id)\n",
    "        pass\n",
    "    \n",
    "for i in range(1, 11):\n",
    "        print(\"현재페이지는\" f'{i}' \"페이지 입니다.\")\n",
    "        try:\n",
    "            xpath = f'/html/body/div[3]/div[8]/div/div[10]/div/div[8]/a[{i}]'\n",
    "            page_button = wait.until(EC.presence_of_element_located((By.XPATH, xpath)))\n",
    "            page_button.click()\n",
    "            time.sleep(2)\n",
    "        except:\n",
    "            xpath = f'/html/body/div[3]/div[8]/div/div[10]/div/div[7]/a[{i}]'\n",
    "            page_button = wait.until(EC.presence_of_element_located((By.XPATH, xpath)))\n",
    "            page_button.click()\n",
    "            time.sleep(2)\n",
    "        finally:\n",
    "            xpath = f'/html/body/div[3]/div[8]/div/div[10]/div/div[6]/a[{i}]'\n",
    "            page_button = wait.until(EC.presence_of_element_located((By.XPATH, xpath)))\n",
    "            page_button.click()\n",
    "            time.sleep(2)    \n",
    "            pass\n",
    "        try:\n",
    "            table1 = wait.until(EC.presence_of_element_located((By.XPATH, '//*[@id=\"gdasContentsArea\"]/div/div[7]')))\n",
    "            table = driver.find_element(By.XPATH,'//*[@id=\"gdasContentsArea\"]/div/div[7]')\n",
    "            _table = BS(table.get_attribute('innerHTML'), 'html.parser')\n",
    "            for tt in _table.find_all('li'):\n",
    "                try:\n",
    "                    rating = tt.find('span', class_='review_point').text\n",
    "                    rating = rating.split(' ')[1]\n",
    "                    rating = rating.split('점')[0]\n",
    "                    ratings.append(rating)\n",
    "                except:\n",
    "                    rating = \"error\"\n",
    "                    ratings.append(rating)\n",
    "                    pass\n",
    "                try:\n",
    "                    review = tt.find('div', class_= 'txt_inner').text\n",
    "                    reviews.append(review)\n",
    "                except:\n",
    "                    review = \"error\"\n",
    "                    reviews.append(review)\n",
    "                    pass\n",
    "                try:\n",
    "                    name_id = tt.find('p',class_='info_user').find('a').text\n",
    "                    name_ids.append(name_id)\n",
    "                except:\n",
    "                    name_id = \"error\"\n",
    "                    name_ids.append(name_id)\n",
    "                    pass\n",
    "        except:\n",
    "            pass\n",
    "            time.sleep(1)\n",
    "\n",
    "for i in range(2, 11):\n",
    "        print(\"현재페이지는\" f'{i}' \"페이지 입니다.\")\n",
    "        try:\n",
    "            xpath = f'/html/body/div[3]/div[8]/div/div[10]/div/div[8]/a[{i}]'\n",
    "            page_button = wait.until(EC.presence_of_element_located((By.XPATH, xpath)))\n",
    "            page_button.click()\n",
    "            time.sleep(2)\n",
    "        except:\n",
    "            xpath = f'/html/body/div[3]/div[8]/div/div[10]/div/div[7]/a[{i}]'\n",
    "            page_button = wait.until(EC.presence_of_element_located((By.XPATH, xpath)))\n",
    "            page_button.click()\n",
    "            time.sleep(2)\n",
    "        finally:\n",
    "            xpath = f'/html/body/div[3]/div[8]/div/div[10]/div/div[6]/a[{i}]'\n",
    "            page_button = wait.until(EC.presence_of_element_located((By.XPATH, xpath)))\n",
    "            page_button.click()\n",
    "            time.sleep(2)    \n",
    "            pass\n",
    "        try:\n",
    "            table1 = wait.until(EC.presence_of_element_located((By.XPATH, '//*[@id=\"gdasContentsArea\"]/div/div[7]')))\n",
    "            table = driver.find_element(By.XPATH,'//*[@id=\"gdasContentsArea\"]/div/div[7]')\n",
    "            _table = BS(table.get_attribute('innerHTML'), 'html.parser')\n",
    "            for tt in _table.find_all('li'):\n",
    "                try:\n",
    "                    rating = tt.find('span', class_='review_point').text\n",
    "                    rating = rating.split(' ')[1]\n",
    "                    rating = rating.split('점')[0]\n",
    "                    ratings.append(rating)\n",
    "                except:\n",
    "                    rating = \"error\"\n",
    "                    ratings.append(rating)\n",
    "                    pass\n",
    "                try:\n",
    "                    review = tt.find('div', class_= 'txt_inner').text\n",
    "                    reviews.append(review)\n",
    "                except:\n",
    "                    review = \"error\"\n",
    "                    reviews.append(review)\n",
    "                    pass\n",
    "                try:\n",
    "                    name_id = tt.find('p',class_='info_user').find('a').text\n",
    "                    name_ids.append(name_id)\n",
    "                except:\n",
    "                    name_id = \"error\"\n",
    "                    name_ids.append(name_id)\n",
    "                    pass\n",
    "        except:\n",
    "            pass\n",
    "            time.sleep(1)\n",
    "    "
   ]
  },
  {
   "cell_type": "code",
   "execution_count": 14,
   "id": "761356b7",
   "metadata": {},
   "outputs": [
    {
     "data": {
      "text/plain": [
       "['5',\n",
       " '4',\n",
       " 'error',\n",
       " 'error',\n",
       " 'error',\n",
       " '5',\n",
       " 'error',\n",
       " 'error',\n",
       " 'error',\n",
       " 'error',\n",
       " 'error',\n",
       " '5',\n",
       " 'error',\n",
       " 'error',\n",
       " 'error',\n",
       " '5',\n",
       " 'error',\n",
       " 'error',\n",
       " 'error',\n",
       " '5',\n",
       " 'error',\n",
       " 'error',\n",
       " 'error',\n",
       " '4',\n",
       " 'error',\n",
       " '5',\n",
       " 'error',\n",
       " 'error',\n",
       " 'error',\n",
       " '5',\n",
       " 'error',\n",
       " 'error',\n",
       " 'error',\n",
       " '5',\n",
       " 'error',\n",
       " 'error',\n",
       " 'error']"
      ]
     },
     "execution_count": 14,
     "metadata": {},
     "output_type": "execute_result"
    }
   ],
   "source": [
    "ratings"
   ]
  },
  {
   "cell_type": "code",
   "execution_count": 17,
   "id": "2938a48b",
   "metadata": {
    "collapsed": true
   },
   "outputs": [
    {
     "data": {
      "text/plain": [
       "[<li> <div class=\"info\"> <div class=\"user clrfix\"> <a data-attr=\"상품상세^리뷰어프로필^프로필이미지 또는 닉네임 클릭\" href=\"javascript:;\" onclick=\"goods.gdas.hadleClickProductDetailReviewerProfile('WVJuQTlqdjE1NGRTMWJtQU1UVk9uZz09', { t_page: '상품상세', t_click: '리뷰어_리뷰어프로필', t_profile_name: '올리브지킴이', t_review_rank_name: '2'})\"> <img onerror=\"common.errorProfileImg(this);\" onload=\"common.onLoadProfileImg(this, 60)\" src=\"https://image.oliveyoung.co.kr/uploads/images/mbrProfile/2023/07/26/1690374170446.png\" style=\"display: none;\"/> <div class=\"thum\"> <span class=\"bg\"></span> <img class=\"profileThum_s\" src=\"https://image.oliveyoung.co.kr/uploads/images/mbrProfile/2023/07/26/1690374170446.png?RS=60x79&amp;CS=60x60\" style=\"background:url(https://static.oliveyoung.co.kr/pc-static-root/image/comm/my_picture_base.jpg) no-repeat 0 0;background-size:60px\"/> </div> </a> <!--## 리뷰 고도화 1차 ## : top, id 위치 변경 및 마크업 변경 --> <p class=\"info_user\"> <a class=\"id\" data-attr=\"상품상세^리뷰어프로필^프로필이미지 또는 닉네임 클릭\" href=\"javascript:;\" onclick=\"goods.gdas.hadleClickProductDetailReviewerProfile('WVJuQTlqdjE1NGRTMWJtQU1UVk9uZz09', { t_page: '상품상세', t_click: '리뷰어_리뷰어프로필', t_profile_name: '올리브지킴이', t_review_rank_name: '2'})\">올리브지킴이</a> <!--## 리뷰 고도화 1차 ## :  탑리뷰어 라운지로 이동시킴 --> <a class=\"top\" data-attr=\"상품상세^랭킹순위^순위클릭\" href=\"javascript:;\" onclick=\"goods.gdas.handleClickTopReviewer({t_page: '상품상세', t_click: '리뷰어_탑리뷰어순위', t_review_rank_name: '2'})\">TOP 2</a> </p> <!--## 리뷰 고도화 2차 ## : 명성리뷰어 --> <p class=\"tag\"> <!--피부 컨디션이 --> <!--<strong _tmplitem=\"1\" >--><!-- ## 리뷰 고도화 1차 ## : 위치 변경 및 마크업 변경 --> <span>복합성</span> <span>여름쿨톤</span> <span>트러블</span> <!--</strong>--> </p> <!--## 리뷰 고도화 1차 ## : 재구매/한달사용 리뷰 --> <div class=\"badge\"> <div> <a class=\"point_flag\" href=\"javascript:;\">한달이상사용</a> <div class=\"more_msg\">       첫 리뷰 작성 후 30일 동안 사용 후 작성하신 리뷰입니다.      </div> </div> </div> </div> </div> <div class=\"review_cont\"> <div class=\"score_area\"> <span class=\"review_point\"><span class=\"point\" style=\"width:100%\">5점만점에 5점</span></span> <span class=\"date\">2023.10.25</span> </div> <!--## 리뷰 고도화 1차 ## 위치변경 --> <!--## 리뷰 고도화 1차 ## 위치변경 --> <!--## 리뷰 고도화 1차 ## 위치변경 --> <div class=\"poll_sample\"> <dl class=\"poll_type1\"> <dt><span>피부타입</span></dt> <dd><span class=\"txt\">건성에 좋아요</span></dd> </dl> <dl class=\"poll_type1\"> <dt><span>피부고민</span></dt> <dd><span class=\"txt\">보습에 좋아요</span></dd> </dl> <dl class=\"poll_type1\"> <dt><span>자극도</span></dt> <dd><span class=\"txt\">자극없이 순해요</span></dd> </dl> </div> <!--## 리뷰 고도화 1차 ## 위치변경 --> <div class=\"txt_inner\">지성인 저에겐 아주아주 극소량으로도 충분한 제품 ㅠ ㅠ 첫날 뭣도 모르고 일반 크림처럼 발랐다가 오도독 올라와서 양 조절하니 세상 좋네용 저는 죽을때까지 쓸 양이지만 건성분들에겐 이만한 제품 없을듯 해요</div> <!-- ## 리뷰 고도화 1차 ## : 태그 추가 --> <!--## 리뷰 고도화 2차 ## 연관상품 --> <p class=\"txt_beauty\">※ 해당 리뷰는 원칙적으로 기본 상품이 동일한 단품 사용 후 작성된 것이며,개별 상품에 따라 용량 내지 일부 구성(1+1, 기획상품 등)이 상이할 수 있음을 안내드립니다.</p> <!--## 리뷰 고도화 1차 ## 위치변경 및 삭제--> <!-- ## 리뷰 고도화 1차 ##  : 리뷰제한 카테고리 일경우 안보이게 --> <div class=\"recom_area\"> <button class=\"btn_recom\" data-attr=\"상품상세^도움이돼요^도움이돼요\" id=\"gdas_23151901\" onclick=\"goods.gdas.setRecommGdasToggle('23151901',  'N', {t_page: '상품상세', t_click: '상품상세_도움이돼요', t_profile_name: '올리브지킴이', t_review_rank_name: '2'});\" type=\"button\">         이 리뷰가 도움이 돼요!     <span class=\"num\" data-attr=\"상품상세^도움이돼요^도움이돼요\">             41           </span> </button> <input name=\"recommCnt_23151901\" type=\"hidden\" value=\"41\"/> </div> <button class=\"btn_dec\" data-attr=\"상품상세^신고하기^신고하기\" onclick=\"goods.gdas.goGdasReportPop('23151901', 'A000000117701', '001', 'N', {t_page: '상품상세', t_click: '상품상세_리뷰신고하기', gdas_seq: '23151901'});\" type=\"button\">신고하기</button> </div> </li>,\n",
       " <li> <div class=\"info\"> <div class=\"user clrfix\"> <a data-attr=\"상품상세^리뷰어프로필^프로필이미지 또는 닉네임 클릭\" href=\"javascript:;\" onclick=\"goods.gdas.hadleClickProductDetailReviewerProfile('WnpWSGc0L3hMMC90eXl1ZjFvZWIyQT09', { t_page: '상품상세', t_click: '리뷰어_리뷰어프로필', t_profile_name: '하늘연못', t_review_rank_name: '0'})\"> <img onerror=\"common.errorProfileImg(this);\" onload=\"common.onLoadProfileImg(this, 60)\" src=\"https://image.oliveyoung.co.kr/uploads/images/mbrProfile/2023/11/05/1699188823187.png\" style=\"display: none;\"/> <div class=\"thum\"> <span class=\"bg\"></span> <img class=\"profileThum_s\" src=\"https://image.oliveyoung.co.kr/uploads/images/mbrProfile/2023/11/05/1699188823187.png?RS=60x89&amp;CS=60x60\" style=\"background:url(https://static.oliveyoung.co.kr/pc-static-root/image/comm/my_picture_base.jpg) no-repeat 0 0;background-size:60px\"/> </div> </a> <!--## 리뷰 고도화 1차 ## : top, id 위치 변경 및 마크업 변경 --> <p class=\"info_user\"> <a class=\"id\" data-attr=\"상품상세^리뷰어프로필^프로필이미지 또는 닉네임 클릭\" href=\"javascript:;\" onclick=\"goods.gdas.hadleClickProductDetailReviewerProfile('WnpWSGc0L3hMMC90eXl1ZjFvZWIyQT09', { t_page: '상품상세', t_click: '리뷰어_리뷰어프로필', t_profile_name: '하늘연못', t_review_rank_name: '0'})\">하늘연못</a> </p> <!--## 리뷰 고도화 2차 ## : 명성리뷰어 --> <p class=\"tag\"> <!--피부 컨디션이 --> <!--<strong _tmplitem=\"2\" >--><!-- ## 리뷰 고도화 1차 ## : 위치 변경 및 마크업 변경 --> <span>복합성</span> <span>여름쿨톤</span> <span>각질</span> <span>모공</span> <!--</strong>--> </p> <!--## 리뷰 고도화 1차 ## : 재구매/한달사용 리뷰 --> <div class=\"badge\"> </div> </div> </div> <div class=\"review_cont\"> <div class=\"score_area\"> <span class=\"review_point\"><span class=\"point\" style=\"width:80%\">5점만점에 4점</span></span> <span class=\"date\">2023.11.08</span> </div> <!--## 리뷰 고도화 1차 ## 위치변경 --> <p class=\"item_option\">[옵션] 아토베리어 크림 기획</p> <!--## 리뷰 고도화 1차 ## 위치변경 --> <!--## 리뷰 고도화 1차 ## 위치변경 --> <div class=\"poll_sample\"> <dl class=\"poll_type1\"> <dt><span>피부타입</span></dt> <dd><span class=\"txt\">복합성에 좋아요</span></dd> </dl> <dl class=\"poll_type1\"> <dt><span>피부고민</span></dt> <dd><span class=\"txt\">진정에 좋아요</span></dd> </dl> <dl class=\"poll_type1\"> <dt><span>자극도</span></dt> <dd><span class=\"txt\">자극없이 순해요</span></dd> </dl> </div> <!--## 리뷰 고도화 1차 ## 위치변경 --> <div class=\"txt_inner\">티존은 기름이 거의 흐르다시피 하고 나머지는 건조하기 그지없는 저주받은 복합성인데 번들거리지 않고 바싹 마르지 않아서 적당한 크림임둥...<br/>하지만 그만큼 수분폭탄!! 최고진정!! 은 아니고 무난하고 순하게 맞는 제형이라 수분크림이랑 섞어서 써주거나 크림 전에 기초를 잘해조야댐... <br/>무향이고 문지르면 녹는 알갱이들? 같는 게 있음 좋아요</div> <!-- ## 리뷰 고도화 1차 ## : 태그 추가 --> <div class=\"review_thum type1\"> <ul class=\"inner clrfix\"> <li><a data-attr=\"상품상세^포토리뷰^포토 클릭^1\" href=\"#\"><span><img alt=\"\" class=\"thum\" data-value=\"23502950_1\" onerror=\"common.errorResizeImg(this,165)\" onload=\"common.imgLoads(this,165);\" src=\"https://image.oliveyoung.co.kr/uploads/images/gdasEditor/2023/11/08/1699433421217.png?RS=165x165&amp;CS=165x165\"/></span></a></li> <li><a data-attr=\"상품상세^포토리뷰^포토 클릭^2\" href=\"#\"><span><img alt=\"\" class=\"thum\" data-value=\"23502950_2\" onerror=\"common.errorResizeImg(this,165)\" onload=\"common.imgLoads(this,165);\" src=\"https://image.oliveyoung.co.kr/uploads/images/gdasEditor/2023/11/08/1699433428748.png?RS=165x0&amp;CS=165x165\"/></span></a></li> <li><a data-attr=\"상품상세^포토리뷰^포토 클릭^3\" href=\"#\"><span><img alt=\"\" class=\"thum\" data-value=\"23502950_3\" onerror=\"common.errorResizeImg(this,165)\" onload=\"common.imgLoads(this,165);\" src=\"https://image.oliveyoung.co.kr/uploads/images/gdasEditor/2023/11/08/1699433477097.png?RS=165x0&amp;CS=165x165\"/></span></a></li> </ul> </div> <div class=\"rw-photo-slide\" style=\"display:none\"> <div><img src=\"https://image.oliveyoung.co.kr/uploads/images/gdasEditor/2023/11/08/1699433421217.png\"/></div> <div><img src=\"https://image.oliveyoung.co.kr/uploads/images/gdasEditor/2023/11/08/1699433428748.png\"/></div> <div><img src=\"https://image.oliveyoung.co.kr/uploads/images/gdasEditor/2023/11/08/1699433477097.png\"/></div> </div> <!--## 리뷰 고도화 2차 ## 연관상품 --> <!--## 리뷰 고도화 1차 ## 위치변경 및 삭제--> <!-- ## 리뷰 고도화 1차 ##  : 리뷰제한 카테고리 일경우 안보이게 --> <div class=\"recom_area\"> <button class=\"btn_recom\" data-attr=\"상품상세^도움이돼요^도움이돼요\" id=\"gdas_23502950\" onclick=\"goods.gdas.setRecommGdasToggle('23502950',  'N', {t_page: '상품상세', t_click: '상품상세_도움이돼요', t_profile_name: '하늘연못', t_review_rank_name: '0'});\" type=\"button\">         이 리뷰가 도움이 돼요!     <span class=\"num\" data-attr=\"상품상세^도움이돼요^도움이돼요\">             3           </span> </button> <input name=\"recommCnt_23502950\" type=\"hidden\" value=\"3\"/> </div> <button class=\"btn_dec\" data-attr=\"상품상세^신고하기^신고하기\" onclick=\"goods.gdas.goGdasReportPop('23502950', 'A000000184128', '001', 'N', {t_page: '상품상세', t_click: '상품상세_리뷰신고하기', gdas_seq: '23502950'});\" type=\"button\">신고하기</button> </div> </li>,\n",
       " <li><a data-attr=\"상품상세^포토리뷰^포토 클릭^1\" href=\"#\"><span><img alt=\"\" class=\"thum\" data-value=\"23502950_1\" onerror=\"common.errorResizeImg(this,165)\" onload=\"common.imgLoads(this,165);\" src=\"https://image.oliveyoung.co.kr/uploads/images/gdasEditor/2023/11/08/1699433421217.png?RS=165x165&amp;CS=165x165\"/></span></a></li>,\n",
       " <li><a data-attr=\"상품상세^포토리뷰^포토 클릭^2\" href=\"#\"><span><img alt=\"\" class=\"thum\" data-value=\"23502950_2\" onerror=\"common.errorResizeImg(this,165)\" onload=\"common.imgLoads(this,165);\" src=\"https://image.oliveyoung.co.kr/uploads/images/gdasEditor/2023/11/08/1699433428748.png?RS=165x0&amp;CS=165x165\"/></span></a></li>,\n",
       " <li><a data-attr=\"상품상세^포토리뷰^포토 클릭^3\" href=\"#\"><span><img alt=\"\" class=\"thum\" data-value=\"23502950_3\" onerror=\"common.errorResizeImg(this,165)\" onload=\"common.imgLoads(this,165);\" src=\"https://image.oliveyoung.co.kr/uploads/images/gdasEditor/2023/11/08/1699433477097.png?RS=165x0&amp;CS=165x165\"/></span></a></li>,\n",
       " <li> <div class=\"info\"> <div class=\"user clrfix\"> <a data-attr=\"상품상세^리뷰어프로필^프로필이미지 또는 닉네임 클릭\" href=\"javascript:;\" onclick=\"goods.gdas.hadleClickProductDetailReviewerProfile('bHYyTVB4RWZPUUpHQmMyL2VMaC9UUT09', { t_page: '상품상세', t_click: '리뷰어_리뷰어프로필', t_profile_name: 'mings2s2', t_review_rank_name: '242'})\"> <img onerror=\"common.errorProfileImg(this);\" onload=\"common.onLoadProfileImg(this, 60)\" src=\"https://image.oliveyoung.co.kr/uploads/images/mbrProfile/2023/07/27/1690459697767.png\" style=\"display: none;\"/> <div class=\"thum\"> <span class=\"bg\"></span> <img class=\"profileThum_s\" src=\"https://image.oliveyoung.co.kr/uploads/images/mbrProfile/2023/07/27/1690459697767.png?RS=60x60&amp;CS=60x60\" style=\"background:url(https://static.oliveyoung.co.kr/pc-static-root/image/comm/my_picture_base.jpg) no-repeat 0 0;background-size:60px\"/> </div> </a> <!--## 리뷰 고도화 1차 ## : top, id 위치 변경 및 마크업 변경 --> <p class=\"info_user\"> <a class=\"id\" data-attr=\"상품상세^리뷰어프로필^프로필이미지 또는 닉네임 클릭\" href=\"javascript:;\" onclick=\"goods.gdas.hadleClickProductDetailReviewerProfile('bHYyTVB4RWZPUUpHQmMyL2VMaC9UUT09', { t_page: '상품상세', t_click: '리뷰어_리뷰어프로필', t_profile_name: 'mings2s2', t_review_rank_name: '242'})\">mings2s2</a> <!--## 리뷰 고도화 1차 ## :  탑리뷰어 라운지로 이동시킴 --> <a class=\"top\" data-attr=\"상품상세^랭킹순위^순위클릭\" href=\"javascript:;\" onclick=\"goods.gdas.handleClickTopReviewer({t_page: '상품상세', t_click: '리뷰어_탑리뷰어순위', t_review_rank_name: '242'})\">TOP 242</a> </p> <!--## 리뷰 고도화 2차 ## : 명성리뷰어 --> <p class=\"tag\"> <!--피부 컨디션이 --> <!--<strong _tmplitem=\"3\" >--><!-- ## 리뷰 고도화 1차 ## : 위치 변경 및 마크업 변경 --> <span>복합성</span> <span>쿨톤</span> <span>각질</span> <span>모공</span> <!--</strong>--> </p> <!--## 리뷰 고도화 1차 ## : 재구매/한달사용 리뷰 --> <div class=\"badge\"> </div> </div> </div> <div class=\"review_cont\"> <div class=\"score_area\"> <span class=\"review_point\"><span class=\"point\" style=\"width:100%\">5점만점에 5점</span></span> <span class=\"date\">2023.11.08</span> </div> <!--## 리뷰 고도화 1차 ## 위치변경 --> <p class=\"item_option\">[옵션] 아토베리어 크림 기획</p> <!--## 리뷰 고도화 1차 ## 위치변경 --> <!--## 리뷰 고도화 1차 ## 위치변경 --> <div class=\"poll_sample\"> <dl class=\"poll_type1\"> <dt><span>피부타입</span></dt> <dd><span class=\"txt\">건성에 좋아요</span></dd> </dl> <dl class=\"poll_type1\"> <dt><span>피부고민</span></dt> <dd><span class=\"txt\">보습에 좋아요</span></dd> </dl> <dl class=\"poll_type1\"> <dt><span>자극도</span></dt> <dd><span class=\"txt\">자극없이 순해요</span></dd> </dl> </div> <!--## 리뷰 고도화 1차 ## 위치변경 --> <div class=\"txt_inner\">에스트라 365 오랜만에 다시 사용해요.<br/>요즘 따라 속건조가 너무 심해서 보습력 좋으면서 메이크업 전 단계에 사용해도 무리 없는 데일리 제품을 찾다가 다시 돌아왔어요. 더마라인의 크림은 보습은 좋지만, 유분감이 많아서 메이크업 궁합이 안 맞더라고요. 성분 순하고 발림성 좋고 극강의 보습감은 아니지만 어느정도의 속건조는 잡아줘서 만족해요.</div> <!-- ## 리뷰 고도화 1차 ## : 태그 추가 --> <div class=\"review_thum type1\"> <ul class=\"inner clrfix slick-initialized slick-slider\"> <div aria-live=\"polite\" class=\"slick-list draggable\"><div class=\"slick-track\" role=\"listbox\" style=\"opacity: 1; width: 860px; transform: translate3d(0px, 0px, 0px);\"><li aria-describedby=\"slick-slide10\" aria-hidden=\"false\" class=\"slick-slide slick-current slick-active\" data-slick-index=\"0\" role=\"option\" style=\"width: 162px;\" tabindex=\"-1\"><a data-attr=\"상품상세^포토리뷰^포토 클릭^1\" href=\"#\" tabindex=\"0\"><span><img alt=\"\" class=\"thum\" data-value=\"23507792_1\" onerror=\"common.errorResizeImg(this,165)\" onload=\"common.imgLoads(this,165);\" src=\"https://image.oliveyoung.co.kr/uploads/images/gdasEditor/2023/11/08/1699448335839.png?RS=330x0&amp;CS=165x165\"/></span></a></li><li aria-describedby=\"slick-slide11\" aria-hidden=\"false\" class=\"slick-slide slick-active\" data-slick-index=\"1\" role=\"option\" style=\"width: 162px;\" tabindex=\"-1\"><a data-attr=\"상품상세^포토리뷰^포토 클릭^2\" href=\"#\" tabindex=\"0\"><span><img alt=\"\" class=\"thum\" data-value=\"23507792_2\" onerror=\"common.errorResizeImg(this,165)\" onload=\"common.imgLoads(this,165);\" src=\"https://image.oliveyoung.co.kr/uploads/images/gdasEditor/2023/11/08/1699448385477.png?RS=330x0&amp;CS=165x165\"/></span></a></li><li aria-describedby=\"slick-slide12\" aria-hidden=\"false\" class=\"slick-slide slick-active\" data-slick-index=\"2\" role=\"option\" style=\"width: 162px;\" tabindex=\"-1\"><a data-attr=\"상품상세^포토리뷰^포토 클릭^3\" href=\"#\" tabindex=\"0\"><span><img alt=\"\" class=\"thum\" data-value=\"23507792_3\" onerror=\"common.errorResizeImg(this,165)\" onload=\"common.imgLoads(this,165);\" src=\"https://image.oliveyoung.co.kr/uploads/images/gdasEditor/2023/11/08/1699448413472.png?RS=330x0&amp;CS=165x165\"/></span></a></li><li aria-describedby=\"slick-slide13\" aria-hidden=\"false\" class=\"slick-slide slick-active\" data-slick-index=\"3\" role=\"option\" style=\"width: 162px;\" tabindex=\"-1\"><a data-attr=\"상품상세^포토리뷰^포토 클릭^4\" href=\"#\" tabindex=\"0\"><span><img alt=\"\" class=\"thum\" data-value=\"23507792_4\" onerror=\"common.errorResizeImg(this,165)\" onload=\"common.imgLoads(this,165);\" src=\"https://image.oliveyoung.co.kr/uploads/images/gdasEditor/2023/11/08/1699448456850.png?RS=330x0&amp;CS=165x165\"/></span></a></li><li aria-describedby=\"slick-slide14\" aria-hidden=\"true\" class=\"slick-slide\" data-slick-index=\"4\" role=\"option\" style=\"width: 162px;\" tabindex=\"-1\"><a data-attr=\"상품상세^포토리뷰^포토 클릭^5\" href=\"#\" tabindex=\"-1\"><span><img alt=\"\" class=\"thum\" data-value=\"23507792_5\" onerror=\"common.errorResizeImg(this,165)\" onload=\"common.imgLoads(this,165);\" src=\"https://image.oliveyoung.co.kr/uploads/images/gdasEditor/2023/11/08/1699448504311.png?RS=330x0&amp;CS=165x165\"/></span></a></li></div></div> </ul> </div> <div class=\"rw-photo-slide\" style=\"display:none\"> <div><img src=\"https://image.oliveyoung.co.kr/uploads/images/gdasEditor/2023/11/08/1699448335839.png\"/></div> <div><img src=\"https://image.oliveyoung.co.kr/uploads/images/gdasEditor/2023/11/08/1699448385477.png\"/></div> <div><img src=\"https://image.oliveyoung.co.kr/uploads/images/gdasEditor/2023/11/08/1699448413472.png\"/></div> <div><img src=\"https://image.oliveyoung.co.kr/uploads/images/gdasEditor/2023/11/08/1699448456850.png\"/></div> <div><img src=\"https://image.oliveyoung.co.kr/uploads/images/gdasEditor/2023/11/08/1699448504311.png\"/></div> </div> <!--## 리뷰 고도화 2차 ## 연관상품 --> <!--## 리뷰 고도화 1차 ## 위치변경 및 삭제--> <!-- ## 리뷰 고도화 1차 ##  : 리뷰제한 카테고리 일경우 안보이게 --> <div class=\"recom_area\"> <button class=\"btn_recom\" data-attr=\"상품상세^도움이돼요^도움이돼요\" id=\"gdas_23507792\" onclick=\"goods.gdas.setRecommGdasToggle('23507792',  'N', {t_page: '상품상세', t_click: '상품상세_도움이돼요', t_profile_name: 'mings2s2', t_review_rank_name: '242'});\" type=\"button\">         이 리뷰가 도움이 돼요!     <span class=\"num\" data-attr=\"상품상세^도움이돼요^도움이돼요\">             2           </span> </button> <input name=\"recommCnt_23507792\" type=\"hidden\" value=\"2\"/> </div> <button class=\"btn_dec\" data-attr=\"상품상세^신고하기^신고하기\" onclick=\"goods.gdas.goGdasReportPop('23507792', 'A000000184128', '001', 'N', {t_page: '상품상세', t_click: '상품상세_리뷰신고하기', gdas_seq: '23507792'});\" type=\"button\">신고하기</button> </div> </li>,\n",
       " <li aria-describedby=\"slick-slide10\" aria-hidden=\"false\" class=\"slick-slide slick-current slick-active\" data-slick-index=\"0\" role=\"option\" style=\"width: 162px;\" tabindex=\"-1\"><a data-attr=\"상품상세^포토리뷰^포토 클릭^1\" href=\"#\" tabindex=\"0\"><span><img alt=\"\" class=\"thum\" data-value=\"23507792_1\" onerror=\"common.errorResizeImg(this,165)\" onload=\"common.imgLoads(this,165);\" src=\"https://image.oliveyoung.co.kr/uploads/images/gdasEditor/2023/11/08/1699448335839.png?RS=330x0&amp;CS=165x165\"/></span></a></li>,\n",
       " <li aria-describedby=\"slick-slide11\" aria-hidden=\"false\" class=\"slick-slide slick-active\" data-slick-index=\"1\" role=\"option\" style=\"width: 162px;\" tabindex=\"-1\"><a data-attr=\"상품상세^포토리뷰^포토 클릭^2\" href=\"#\" tabindex=\"0\"><span><img alt=\"\" class=\"thum\" data-value=\"23507792_2\" onerror=\"common.errorResizeImg(this,165)\" onload=\"common.imgLoads(this,165);\" src=\"https://image.oliveyoung.co.kr/uploads/images/gdasEditor/2023/11/08/1699448385477.png?RS=330x0&amp;CS=165x165\"/></span></a></li>,\n",
       " <li aria-describedby=\"slick-slide12\" aria-hidden=\"false\" class=\"slick-slide slick-active\" data-slick-index=\"2\" role=\"option\" style=\"width: 162px;\" tabindex=\"-1\"><a data-attr=\"상품상세^포토리뷰^포토 클릭^3\" href=\"#\" tabindex=\"0\"><span><img alt=\"\" class=\"thum\" data-value=\"23507792_3\" onerror=\"common.errorResizeImg(this,165)\" onload=\"common.imgLoads(this,165);\" src=\"https://image.oliveyoung.co.kr/uploads/images/gdasEditor/2023/11/08/1699448413472.png?RS=330x0&amp;CS=165x165\"/></span></a></li>,\n",
       " <li aria-describedby=\"slick-slide13\" aria-hidden=\"false\" class=\"slick-slide slick-active\" data-slick-index=\"3\" role=\"option\" style=\"width: 162px;\" tabindex=\"-1\"><a data-attr=\"상품상세^포토리뷰^포토 클릭^4\" href=\"#\" tabindex=\"0\"><span><img alt=\"\" class=\"thum\" data-value=\"23507792_4\" onerror=\"common.errorResizeImg(this,165)\" onload=\"common.imgLoads(this,165);\" src=\"https://image.oliveyoung.co.kr/uploads/images/gdasEditor/2023/11/08/1699448456850.png?RS=330x0&amp;CS=165x165\"/></span></a></li>,\n",
       " <li aria-describedby=\"slick-slide14\" aria-hidden=\"true\" class=\"slick-slide\" data-slick-index=\"4\" role=\"option\" style=\"width: 162px;\" tabindex=\"-1\"><a data-attr=\"상품상세^포토리뷰^포토 클릭^5\" href=\"#\" tabindex=\"-1\"><span><img alt=\"\" class=\"thum\" data-value=\"23507792_5\" onerror=\"common.errorResizeImg(this,165)\" onload=\"common.imgLoads(this,165);\" src=\"https://image.oliveyoung.co.kr/uploads/images/gdasEditor/2023/11/08/1699448504311.png?RS=330x0&amp;CS=165x165\"/></span></a></li>,\n",
       " <li> <div class=\"info\"> <div class=\"user clrfix\"> <a data-attr=\"상품상세^리뷰어프로필^프로필이미지 또는 닉네임 클릭\" href=\"javascript:;\" onclick=\"goods.gdas.hadleClickProductDetailReviewerProfile('WTVLOTdkRzNpa2hHQ01qNWFzL0l3Zz09', { t_page: '상품상세', t_click: '리뷰어_리뷰어프로필', t_profile_name: '꿈꾸는냥이', t_review_rank_name: '1341'})\"> <img onerror=\"common.errorProfileImg(this);\" onload=\"common.onLoadProfileImg(this, 60)\" src=\"https://image.oliveyoung.co.kr/uploads/images/mbrProfile/2022/12/18/1671355627749.png\" style=\"display: none;\"/> <div class=\"thum\"> <span class=\"bg\"></span> <img class=\"profileThum_s\" src=\"https://image.oliveyoung.co.kr/uploads/images/mbrProfile/2022/12/18/1671355627749.png?RS=60x79&amp;CS=60x60\" style=\"background:url(https://static.oliveyoung.co.kr/pc-static-root/image/comm/my_picture_base.jpg) no-repeat 0 0;background-size:60px\"/> </div> </a> <!--## 리뷰 고도화 1차 ## : top, id 위치 변경 및 마크업 변경 --> <p class=\"info_user\"> <a class=\"id\" data-attr=\"상품상세^리뷰어프로필^프로필이미지 또는 닉네임 클릭\" href=\"javascript:;\" onclick=\"goods.gdas.hadleClickProductDetailReviewerProfile('WTVLOTdkRzNpa2hHQ01qNWFzL0l3Zz09', { t_page: '상품상세', t_click: '리뷰어_리뷰어프로필', t_profile_name: '꿈꾸는냥이', t_review_rank_name: '1341'})\">꿈꾸는냥이</a> <!--## 리뷰 고도화 1차 ## :  탑리뷰어 라운지로 이동시킴 --> <a class=\"top\" data-attr=\"상품상세^랭킹순위^순위클릭\" href=\"javascript:;\" onclick=\"goods.gdas.handleClickTopReviewer({t_page: '상품상세', t_click: '리뷰어_탑리뷰어순위', t_review_rank_name: '1341'})\">TOP 1341</a> </p> <!--## 리뷰 고도화 2차 ## : 명성리뷰어 --> <p class=\"tag\"> <!--피부 컨디션이 --> <!--<strong _tmplitem=\"4\" >--><!-- ## 리뷰 고도화 1차 ## : 위치 변경 및 마크업 변경 --> <span>건성</span> <span>모공</span> <span>미백</span> <!--</strong>--> </p> <!--## 리뷰 고도화 1차 ## : 재구매/한달사용 리뷰 --> <div class=\"badge\"> </div> </div> </div> <div class=\"review_cont\"> <div class=\"score_area\"> <span class=\"review_point\"><span class=\"point\" style=\"width:100%\">5점만점에 5점</span></span> <span class=\"date\">2023.10.30</span> </div> <!--## 리뷰 고도화 1차 ## 위치변경 --> <p class=\"item_option\">[옵션] 아토베리어 크림 기획</p> <!--## 리뷰 고도화 1차 ## 위치변경 --> <!--## 리뷰 고도화 1차 ## 위치변경 --> <div class=\"poll_sample\"> <dl class=\"poll_type1\"> <dt><span>피부타입</span></dt> <dd><span class=\"txt\">건성에 좋아요</span></dd> </dl> <dl class=\"poll_type1\"> <dt><span>피부고민</span></dt> <dd><span class=\"txt\">보습에 좋아요</span></dd> </dl> <dl class=\"poll_type1\"> <dt><span>자극도</span></dt> <dd><span class=\"txt\">자극없이 순해요</span></dd> </dl> </div> <!--## 리뷰 고도화 1차 ## 위치변경 --> <div class=\"txt_inner\">저랑 잘 맞아서 재구매한 제품입니다.<br/><br/>에스트라 제품이 저랑 잘맞는것 같아요. 대체적으로 만족하면서 쓰고 있는 제품이라 재구매했습니다. 건성인 저한테는 사계절 양 조절하며 사용할수 있는 제품입니다. <br/><br/>작년 겨울까지만 해도 마스크에 볼이 쓸리고 너무 건조해서 예민해지고 힘들었을때 자극없이 건조함을 잡아줘서 미리 관리하려고 재구매해요.</div> <!-- ## 리뷰 고도화 1차 ## : 태그 추가 --> <div class=\"review_thum type1\"> <ul class=\"inner clrfix\"> <li><a data-attr=\"상품상세^포토리뷰^포토 클릭^1\" href=\"#\"><span><img alt=\"\" class=\"thum\" data-value=\"23256921_1\" onerror=\"common.errorResizeImg(this,165)\" onload=\"common.imgLoads(this,165);\" src=\"https://image.oliveyoung.co.kr/uploads/images/gdasEditor/2023/10/30/1698667235831.png?RS=165x0&amp;CS=165x165\"/></span></a></li> <li><a data-attr=\"상품상세^포토리뷰^포토 클릭^2\" href=\"#\"><span><img alt=\"\" class=\"thum\" data-value=\"23256921_2\" onerror=\"common.errorResizeImg(this,165)\" onload=\"common.imgLoads(this,165);\" src=\"https://image.oliveyoung.co.kr/uploads/images/gdasEditor/2023/10/30/1698667243024.png?RS=165x0&amp;CS=165x165\"/></span></a></li> <li><a data-attr=\"상품상세^포토리뷰^포토 클릭^3\" href=\"#\"><span><img alt=\"\" class=\"thum\" data-value=\"23256921_3\" onerror=\"common.errorResizeImg(this,165)\" onload=\"common.imgLoads(this,165);\" src=\"https://image.oliveyoung.co.kr/uploads/images/gdasEditor/2023/10/30/1698667244928.png?RS=165x0&amp;CS=165x165\"/></span></a></li> </ul> </div> <div class=\"rw-photo-slide\" style=\"display:none\"> <div><img src=\"https://image.oliveyoung.co.kr/uploads/images/gdasEditor/2023/10/30/1698667235831.png\"/></div> <div><img src=\"https://image.oliveyoung.co.kr/uploads/images/gdasEditor/2023/10/30/1698667243024.png\"/></div> <div><img src=\"https://image.oliveyoung.co.kr/uploads/images/gdasEditor/2023/10/30/1698667244928.png\"/></div> </div> <!--## 리뷰 고도화 2차 ## 연관상품 --> <!--## 리뷰 고도화 1차 ## 위치변경 및 삭제--> <!-- ## 리뷰 고도화 1차 ##  : 리뷰제한 카테고리 일경우 안보이게 --> <div class=\"recom_area\"> <button class=\"btn_recom\" data-attr=\"상품상세^도움이돼요^도움이돼요\" id=\"gdas_23256921\" onclick=\"goods.gdas.setRecommGdasToggle('23256921',  'N', {t_page: '상품상세', t_click: '상품상세_도움이돼요', t_profile_name: '꿈꾸는냥이', t_review_rank_name: '1341'});\" type=\"button\">         이 리뷰가 도움이 돼요!     <span class=\"num\" data-attr=\"상품상세^도움이돼요^도움이돼요\">             6           </span> </button> <input name=\"recommCnt_23256921\" type=\"hidden\" value=\"6\"/> </div> <button class=\"btn_dec\" data-attr=\"상품상세^신고하기^신고하기\" onclick=\"goods.gdas.goGdasReportPop('23256921', 'A000000184128', '001', 'N', {t_page: '상품상세', t_click: '상품상세_리뷰신고하기', gdas_seq: '23256921'});\" type=\"button\">신고하기</button> </div> </li>,\n",
       " <li><a data-attr=\"상품상세^포토리뷰^포토 클릭^1\" href=\"#\"><span><img alt=\"\" class=\"thum\" data-value=\"23256921_1\" onerror=\"common.errorResizeImg(this,165)\" onload=\"common.imgLoads(this,165);\" src=\"https://image.oliveyoung.co.kr/uploads/images/gdasEditor/2023/10/30/1698667235831.png?RS=165x0&amp;CS=165x165\"/></span></a></li>,\n",
       " <li><a data-attr=\"상품상세^포토리뷰^포토 클릭^2\" href=\"#\"><span><img alt=\"\" class=\"thum\" data-value=\"23256921_2\" onerror=\"common.errorResizeImg(this,165)\" onload=\"common.imgLoads(this,165);\" src=\"https://image.oliveyoung.co.kr/uploads/images/gdasEditor/2023/10/30/1698667243024.png?RS=165x0&amp;CS=165x165\"/></span></a></li>,\n",
       " <li><a data-attr=\"상품상세^포토리뷰^포토 클릭^3\" href=\"#\"><span><img alt=\"\" class=\"thum\" data-value=\"23256921_3\" onerror=\"common.errorResizeImg(this,165)\" onload=\"common.imgLoads(this,165);\" src=\"https://image.oliveyoung.co.kr/uploads/images/gdasEditor/2023/10/30/1698667244928.png?RS=165x0&amp;CS=165x165\"/></span></a></li>,\n",
       " <li> <div class=\"info\"> <div class=\"user clrfix\"> <a data-attr=\"상품상세^리뷰어프로필^프로필이미지 또는 닉네임 클릭\" href=\"javascript:;\" onclick=\"goods.gdas.hadleClickProductDetailReviewerProfile('TWxoUlBMNVluRDFsTVVQdkJ1ZGRLZz09', { t_page: '상품상세', t_click: '리뷰어_리뷰어프로필', t_profile_name: '하먀공두', t_review_rank_name: '1666'})\"> <img onerror=\"common.errorProfileImg(this);\" onload=\"common.onLoadProfileImg(this, 60)\" src=\"https://image.oliveyoung.co.kr/uploads/images/mbrProfile/2022/09/01/1661968156573.png\" style=\"display: none;\"/> <div class=\"thum\"> <span class=\"bg\"></span> <img class=\"profileThum_s\" src=\"https://image.oliveyoung.co.kr/uploads/images/mbrProfile/2022/09/01/1661968156573.png?RS=60x79&amp;CS=60x60\" style=\"background:url(https://static.oliveyoung.co.kr/pc-static-root/image/comm/my_picture_base.jpg) no-repeat 0 0;background-size:60px\"/> </div> </a> <!--## 리뷰 고도화 1차 ## : top, id 위치 변경 및 마크업 변경 --> <p class=\"info_user\"> <a class=\"id\" data-attr=\"상품상세^리뷰어프로필^프로필이미지 또는 닉네임 클릭\" href=\"javascript:;\" onclick=\"goods.gdas.hadleClickProductDetailReviewerProfile('TWxoUlBMNVluRDFsTVVQdkJ1ZGRLZz09', { t_page: '상품상세', t_click: '리뷰어_리뷰어프로필', t_profile_name: '하먀공두', t_review_rank_name: '1666'})\">하먀공두</a> <!--## 리뷰 고도화 1차 ## :  탑리뷰어 라운지로 이동시킴 --> <a class=\"top\" data-attr=\"상품상세^랭킹순위^순위클릭\" href=\"javascript:;\" onclick=\"goods.gdas.handleClickTopReviewer({t_page: '상품상세', t_click: '리뷰어_탑리뷰어순위', t_review_rank_name: '1666'})\">TOP 1666</a> </p> <!--## 리뷰 고도화 2차 ## : 명성리뷰어 --> <p class=\"tag\"> <!--피부 컨디션이 --> <!--<strong _tmplitem=\"5\" >--><!-- ## 리뷰 고도화 1차 ## : 위치 변경 및 마크업 변경 --> <span>건성</span> <span>겨울쿨톤</span> <span>다크서클</span> <span>모공</span> <!--</strong>--> </p> <!--## 리뷰 고도화 1차 ## : 재구매/한달사용 리뷰 --> <div class=\"badge\"> </div> </div> </div> <div class=\"review_cont\"> <div class=\"score_area\"> <span class=\"review_point\"><span class=\"point\" style=\"width:80%\">5점만점에 4점</span></span> <span class=\"date\">2023.10.09</span> </div> <!--## 리뷰 고도화 1차 ## 위치변경 --> <!--## 리뷰 고도화 1차 ## 위치변경 --> <!--## 리뷰 고도화 1차 ## 위치변경 --> <div class=\"poll_sample\"> <dl class=\"poll_type1\"> <dt><span>피부타입</span></dt> <dd><span class=\"txt\">건성에 좋아요</span></dd> </dl> <dl class=\"poll_type1\"> <dt><span>피부고민</span></dt> <dd><span class=\"txt\">보습에 좋아요</span></dd> </dl> <dl class=\"poll_type1\"> <dt><span>자극도</span></dt> <dd><span class=\"txt\">자극없이 순해요</span></dd> </dl> </div> <!--## 리뷰 고도화 1차 ## 위치변경 --> <div class=\"txt_inner\">판매량이 어마무시해서 그렇게 좋은가? 하고 구매했던 제품이에요<br/>건성, 민감성, 예민할 때 가끔 트러블 올라오고, 얇은 피부입니다.<br/>일단 너무 기대를 해서 그런지 그냥 그랬고요<br/>바를 때는 너무 부드럽고 보들보들하게 발려서 보습이 오래 유지될 거 같은 발림성인데,<br/>막상 바르고 나면 금새 말라 버려요. 속건조가 안 잡혀요.<br/>지금같은 환절기, 겨울철에 쓰기는 건조합니다<br/>가격대비 무난해서 막 바르기에는 좋아요!</div> <!-- ## 리뷰 고도화 1차 ## : 태그 추가 --> <div class=\"review_thum type1\"> <ul class=\"inner clrfix\"> <li><a data-attr=\"상품상세^포토리뷰^포토 클릭^1\" href=\"#\"><span><img alt=\"\" class=\"thum\" data-value=\"22801564_1\" onerror=\"common.errorResizeImg(this,165)\" onload=\"common.imgLoads(this,165);\" src=\"https://image.oliveyoung.co.kr/uploads/images/gdasEditor/2023/10/09/1696783148208.png?RS=165x0&amp;CS=165x165\"/></span></a></li> </ul> </div> <div class=\"rw-photo-slide\" style=\"display:none\"> <div><img src=\"https://image.oliveyoung.co.kr/uploads/images/gdasEditor/2023/10/09/1696783148208.png\"/></div> </div> <!--## 리뷰 고도화 2차 ## 연관상품 --> <p class=\"txt_beauty\">※ 해당 리뷰는 원칙적으로 기본 상품이 동일한 단품 사용 후 작성된 것이며,개별 상품에 따라 용량 내지 일부 구성(1+1, 기획상품 등)이 상이할 수 있음을 안내드립니다.</p> <!--## 리뷰 고도화 1차 ## 위치변경 및 삭제--> <!-- ## 리뷰 고도화 1차 ##  : 리뷰제한 카테고리 일경우 안보이게 --> <div class=\"recom_area\"> <button class=\"btn_recom\" data-attr=\"상품상세^도움이돼요^도움이돼요\" id=\"gdas_22801564\" onclick=\"goods.gdas.setRecommGdasToggle('22801564',  'N', {t_page: '상품상세', t_click: '상품상세_도움이돼요', t_profile_name: '하먀공두', t_review_rank_name: '1666'});\" type=\"button\">         이 리뷰가 도움이 돼요!     <span class=\"num\" data-attr=\"상품상세^도움이돼요^도움이돼요\">             19           </span> </button> <input name=\"recommCnt_22801564\" type=\"hidden\" value=\"19\"/> </div> <button class=\"btn_dec\" data-attr=\"상품상세^신고하기^신고하기\" onclick=\"goods.gdas.goGdasReportPop('22801564', 'A000000117701', '001', 'N', {t_page: '상품상세', t_click: '상품상세_리뷰신고하기', gdas_seq: '22801564'});\" type=\"button\">신고하기</button> </div> </li>,\n",
       " <li><a data-attr=\"상품상세^포토리뷰^포토 클릭^1\" href=\"#\"><span><img alt=\"\" class=\"thum\" data-value=\"22801564_1\" onerror=\"common.errorResizeImg(this,165)\" onload=\"common.imgLoads(this,165);\" src=\"https://image.oliveyoung.co.kr/uploads/images/gdasEditor/2023/10/09/1696783148208.png?RS=165x0&amp;CS=165x165\"/></span></a></li>,\n",
       " <li> <div class=\"info\"> <div class=\"user clrfix\"> <a data-attr=\"상품상세^리뷰어프로필^프로필이미지 또는 닉네임 클릭\" href=\"javascript:;\" onclick=\"goods.gdas.hadleClickProductDetailReviewerProfile('cE5kZ3hqMmpjUFROY3VxQ1FqSG5aQT09', { t_page: '상품상세', t_click: '리뷰어_리뷰어프로필', t_profile_name: 'Tia', t_review_rank_name: '0'})\"> <img onerror=\"common.errorProfileImg(this);\" onload=\"common.onLoadProfileImg(this, 60)\" src=\"https://image.oliveyoung.co.kr/uploads/images/mbrProfile/2022/09/17/1663346203226.png\" style=\"display: none;\"/> <div class=\"thum\"> <span class=\"bg\"></span> <img class=\"profileThum_s\" src=\"https://image.oliveyoung.co.kr/uploads/images/mbrProfile/2022/09/17/1663346203226.png?RS=60x60&amp;CS=60x60\" style=\"background:url(https://static.oliveyoung.co.kr/pc-static-root/image/comm/my_picture_base.jpg) no-repeat 0 0;background-size:60px\"/> </div> </a> <!--## 리뷰 고도화 1차 ## : top, id 위치 변경 및 마크업 변경 --> <p class=\"info_user\"> <a class=\"id\" data-attr=\"상품상세^리뷰어프로필^프로필이미지 또는 닉네임 클릭\" href=\"javascript:;\" onclick=\"goods.gdas.hadleClickProductDetailReviewerProfile('cE5kZ3hqMmpjUFROY3VxQ1FqSG5aQT09', { t_page: '상품상세', t_click: '리뷰어_리뷰어프로필', t_profile_name: 'Tia', t_review_rank_name: '0'})\">Tia</a> </p> <!--## 리뷰 고도화 2차 ## : 명성리뷰어 --> <p class=\"topreview_N2\"> <span>스킨케어 분야 탑리뷰어</span> </p> <p class=\"tag\"> <!--피부 컨디션이 --> <!--<strong _tmplitem=\"6\" >--><!-- ## 리뷰 고도화 1차 ## : 위치 변경 및 마크업 변경 --> <span>복합성</span> <span>봄웜톤</span> <span>각질</span> <span>모공</span> <!--</strong>--> </p> <!--## 리뷰 고도화 1차 ## : 재구매/한달사용 리뷰 --> <div class=\"badge\"> <div> <a class=\"point_flag\" href=\"javascript:;\">한달이상사용</a> <div class=\"more_msg\">       첫 리뷰 작성 후 30일 동안 사용 후 작성하신 리뷰입니다.      </div> </div> </div> </div> </div> <div class=\"review_cont\"> <div class=\"score_area\"> <span class=\"review_point\"><span class=\"point\" style=\"width:100%\">5점만점에 5점</span></span> <span class=\"date\">2023.11.04</span> </div> <!--## 리뷰 고도화 1차 ## 위치변경 --> <!--## 리뷰 고도화 1차 ## 위치변경 --> <!--## 리뷰 고도화 1차 ## 위치변경 --> <div class=\"poll_sample\"> <dl class=\"poll_type1\"> <dt><span>피부타입</span></dt> <dd><span class=\"txt\">복합성에 좋아요</span></dd> </dl> <dl class=\"poll_type1\"> <dt><span>피부고민</span></dt> <dd><span class=\"txt\">보습에 좋아요</span></dd> </dl> <dl class=\"poll_type1\"> <dt><span>자극도</span></dt> <dd><span class=\"txt\">자극없이 순해요</span></dd> </dl> </div> <!--## 리뷰 고도화 1차 ## 위치변경 --> <div class=\"txt_inner\">정말 수분크림 하면 에스트라 아토베리어 365 크림이죠!! 진짜 수분크림의 대명사는 에스트라가 아닐까 하는 정도로 효과 자체도 너무 많이 봤습니다. 제가 화장품엔 늘 정착을 잘 못하고 이것저것 써보는데 여태 수분크림은 에스트라만 쓰고 있습니다. 특히 가을 겨울 되면 환절기다 뭐다 이것저것 때문에 피부가 뒤집어지고 어떤 걸 발라도 속이 당김이 느껴지면서 건조하고 또 어떤 날은 잘 맞지 않아서 피부에 유분이 올라와서 정말 늘 어떤 걸 써야 하나 걱정했었는데 정말 에스트라만한게 없습니다. 피부 유수분 밸러스도 딱 맞춰주면서 피부에 여드름이 나고 뒤집어질 때 발라주면 딱 좋습니다. 안에 캡슐이 있어 그것 때문에 자극이 느껴지신다고 하시는 분이 있는데 그럴 땐 어느 정도 문질러주면서 캡슐을 퍼지게 한 다음에 발라주면 됩니다.!! 웬만하면 자극 느껴지지 않고 순한 제품입니다.</div> <!-- ## 리뷰 고도화 1차 ## : 태그 추가 --> <div class=\"review_thum type1\"> <ul class=\"inner clrfix\"> <li><a data-attr=\"상품상세^포토리뷰^포토 클릭^1\" href=\"#\"><span><img alt=\"\" class=\"thum\" data-value=\"23390612_1\" onerror=\"common.errorResizeImg(this,165)\" onload=\"common.imgLoads(this,165);\" src=\"https://image.oliveyoung.co.kr/uploads/images/gdasEditor/2023/11/04/1699088314907.png?RS=165x165&amp;CS=165x165\"/></span></a></li> <li><a data-attr=\"상품상세^포토리뷰^포토 클릭^2\" href=\"#\"><span><img alt=\"\" class=\"thum\" data-value=\"23390612_2\" onerror=\"common.errorResizeImg(this,165)\" onload=\"common.imgLoads(this,165);\" src=\"https://image.oliveyoung.co.kr/uploads/images/gdasEditor/2023/11/04/1699088318217.png?RS=165x165&amp;CS=165x165\"/></span></a></li> <li><a data-attr=\"상품상세^포토리뷰^포토 클릭^3\" href=\"#\"><span><img alt=\"\" class=\"thum\" data-value=\"23390612_3\" onerror=\"common.errorResizeImg(this,165)\" onload=\"common.imgLoads(this,165);\" src=\"https://image.oliveyoung.co.kr/uploads/images/gdasEditor/2023/11/04/1699088320986.png?RS=165x165&amp;CS=165x165\"/></span></a></li> </ul> </div> <div class=\"rw-photo-slide\" style=\"display:none\"> <div><img src=\"https://image.oliveyoung.co.kr/uploads/images/gdasEditor/2023/11/04/1699088314907.png\"/></div> <div><img src=\"https://image.oliveyoung.co.kr/uploads/images/gdasEditor/2023/11/04/1699088318217.png\"/></div> <div><img src=\"https://image.oliveyoung.co.kr/uploads/images/gdasEditor/2023/11/04/1699088320986.png\"/></div> </div> <!--## 리뷰 고도화 2차 ## 연관상품 --> <p class=\"txt_beauty\">※ 해당 리뷰는 원칙적으로 기본 상품이 동일한 단품 사용 후 작성된 것이며,개별 상품에 따라 용량 내지 일부 구성(1+1, 기획상품 등)이 상이할 수 있음을 안내드립니다.</p> <!--## 리뷰 고도화 1차 ## 위치변경 및 삭제--> <!-- ## 리뷰 고도화 1차 ##  : 리뷰제한 카테고리 일경우 안보이게 --> <div class=\"recom_area\"> <button class=\"btn_recom\" data-attr=\"상품상세^도움이돼요^도움이돼요\" id=\"gdas_23390612\" onclick=\"goods.gdas.setRecommGdasToggle('23390612',  'N', {t_page: '상품상세', t_click: '상품상세_도움이돼요', t_profile_name: 'Tia', t_review_rank_name: '0'});\" type=\"button\">         이 리뷰가 도움이 돼요!     <span class=\"num\" data-attr=\"상품상세^도움이돼요^도움이돼요\">             2           </span> </button> <input name=\"recommCnt_23390612\" type=\"hidden\" value=\"2\"/> </div> <button class=\"btn_dec\" data-attr=\"상품상세^신고하기^신고하기\" onclick=\"goods.gdas.goGdasReportPop('23390612', 'A000000117701', '001', 'N', {t_page: '상품상세', t_click: '상품상세_리뷰신고하기', gdas_seq: '23390612'});\" type=\"button\">신고하기</button> </div> </li>,\n",
       " <li><a data-attr=\"상품상세^포토리뷰^포토 클릭^1\" href=\"#\"><span><img alt=\"\" class=\"thum\" data-value=\"23390612_1\" onerror=\"common.errorResizeImg(this,165)\" onload=\"common.imgLoads(this,165);\" src=\"https://image.oliveyoung.co.kr/uploads/images/gdasEditor/2023/11/04/1699088314907.png?RS=165x165&amp;CS=165x165\"/></span></a></li>,\n",
       " <li><a data-attr=\"상품상세^포토리뷰^포토 클릭^2\" href=\"#\"><span><img alt=\"\" class=\"thum\" data-value=\"23390612_2\" onerror=\"common.errorResizeImg(this,165)\" onload=\"common.imgLoads(this,165);\" src=\"https://image.oliveyoung.co.kr/uploads/images/gdasEditor/2023/11/04/1699088318217.png?RS=165x165&amp;CS=165x165\"/></span></a></li>,\n",
       " <li><a data-attr=\"상품상세^포토리뷰^포토 클릭^3\" href=\"#\"><span><img alt=\"\" class=\"thum\" data-value=\"23390612_3\" onerror=\"common.errorResizeImg(this,165)\" onload=\"common.imgLoads(this,165);\" src=\"https://image.oliveyoung.co.kr/uploads/images/gdasEditor/2023/11/04/1699088320986.png?RS=165x165&amp;CS=165x165\"/></span></a></li>,\n",
       " <li> <div class=\"info\"> <div class=\"user clrfix\"> <a data-attr=\"상품상세^리뷰어프로필^프로필이미지 또는 닉네임 클릭\" href=\"javascript:;\" onclick=\"goods.gdas.hadleClickProductDetailReviewerProfile('dGpMd01helN2bXAyMitGQk5EY2ZBZz09', { t_page: '상품상세', t_click: '리뷰어_리뷰어프로필', t_profile_name: '미디움웰던안심스텍', t_review_rank_name: '491'})\"> <img onerror=\"common.errorProfileImg(this);\" onload=\"common.onLoadProfileImg(this, 60)\" src=\"https://image.oliveyoung.co.kr/uploads/images/mbrProfile/2023/02/01/1675225160498.png\" style=\"display: none;\"/> <div class=\"thum\"> <span class=\"bg\"></span> <img class=\"profileThum_s\" src=\"https://image.oliveyoung.co.kr/uploads/images/mbrProfile/2023/02/01/1675225160498.png?RS=60x60&amp;CS=60x60\" style=\"background:url(https://static.oliveyoung.co.kr/pc-static-root/image/comm/my_picture_base.jpg) no-repeat 0 0;background-size:60px\"/> </div> </a> <!--## 리뷰 고도화 1차 ## : top, id 위치 변경 및 마크업 변경 --> <p class=\"info_user\"> <a class=\"id\" data-attr=\"상품상세^리뷰어프로필^프로필이미지 또는 닉네임 클릭\" href=\"javascript:;\" onclick=\"goods.gdas.hadleClickProductDetailReviewerProfile('dGpMd01helN2bXAyMitGQk5EY2ZBZz09', { t_page: '상품상세', t_click: '리뷰어_리뷰어프로필', t_profile_name: '미디움웰던안심스텍', t_review_rank_name: '491'})\">미디움웰던안심스텍</a> <!--## 리뷰 고도화 1차 ## :  탑리뷰어 라운지로 이동시킴 --> <a class=\"top\" data-attr=\"상품상세^랭킹순위^순위클릭\" href=\"javascript:;\" onclick=\"goods.gdas.handleClickTopReviewer({t_page: '상품상세', t_click: '리뷰어_탑리뷰어순위', t_review_rank_name: '491'})\">TOP 491</a> </p> <!--## 리뷰 고도화 2차 ## : 명성리뷰어 --> <p class=\"tag\"> <!--피부 컨디션이 --> <!--<strong _tmplitem=\"7\" >--><!-- ## 리뷰 고도화 1차 ## : 위치 변경 및 마크업 변경 --> <span>지성</span> <span>웜톤</span> <span>모공</span> <span>미백</span> <!--</strong>--> </p> <!--## 리뷰 고도화 1차 ## : 재구매/한달사용 리뷰 --> <div class=\"badge\"> <div> <a class=\"point_flag\" href=\"javascript:;\">재구매</a> <div class=\"more_msg\">       2회 이상 구매한 상품에 대한 리뷰입니다.      </div> </div> </div> </div> </div> <div class=\"review_cont\"> <div class=\"score_area\"> <span class=\"review_point\"><span class=\"point\" style=\"width:100%\">5점만점에 5점</span></span> <span class=\"date\">2023.11.05</span> </div> <!--## 리뷰 고도화 1차 ## 위치변경 --> <p class=\"item_option\">[옵션] 아토베리어 크림 기획</p> <!--## 리뷰 고도화 1차 ## 위치변경 --> <!--## 리뷰 고도화 1차 ## 위치변경 --> <div class=\"poll_sample\"> <dl class=\"poll_type1\"> <dt><span>피부타입</span></dt> <dd><span class=\"txt\">복합성에 좋아요</span></dd> </dl> <dl class=\"poll_type1\"> <dt><span>피부고민</span></dt> <dd><span class=\"txt\">보습에 좋아요</span></dd> </dl> <dl class=\"poll_type1\"> <dt><span>자극도</span></dt> <dd><span class=\"txt\">자극없이 순해요</span></dd> </dl> </div> <!--## 리뷰 고도화 1차 ## 위치변경 --> <div class=\"txt_inner\">쟁여두는 최애 보습 크림, 아토베리어365크림♡♡<br/>사실 이 크림 아직 많이 남았는데 오늘의 특가에 떴길래 바로 샀어요!! 에스트라는 할인할 때 꼭 사두는 편이에요. <br/>지나치게 꾸덕한 느낌의 텍스쳐는 아니고 아주 적당한 질감으로 더마온 캡슐이 들어 있는데 자극 없이 스무스하게 피부에 흡수 되어요~ 캡슐이 너무잘 녹아 스며들어요! 향은 없고요~ 가을, 겨울이면 특히나 더 생각나는 크림이에요~ 제 생각에는 크게 피부 타입을 가리지 않는 유일한 보습크림이 아닐까 생각해요. 그리고 제 피부가 민감한 편인데 이 크림은 순~해서 더 좋더라구요!! 완전 추천해요👍</div> <!-- ## 리뷰 고도화 1차 ## : 태그 추가 --> <div class=\"review_thum type1\"> <ul class=\"inner clrfix\"> <li><a data-attr=\"상품상세^포토리뷰^포토 클릭^1\" href=\"#\"><span><img alt=\"\" class=\"thum\" data-value=\"23421938_1\" onerror=\"common.errorResizeImg(this,165)\" onload=\"common.imgLoads(this,165);\" src=\"https://image.oliveyoung.co.kr/uploads/images/gdasEditor/2023/11/05/1699184125531.png?RS=165x0&amp;CS=165x165\"/></span></a></li> <li><a data-attr=\"상품상세^포토리뷰^포토 클릭^2\" href=\"#\"><span><img alt=\"\" class=\"thum\" data-value=\"23421938_2\" onerror=\"common.errorResizeImg(this,165)\" onload=\"common.imgLoads(this,165);\" src=\"https://image.oliveyoung.co.kr/uploads/images/gdasEditor/2023/11/05/1699184133139.png?RS=165x0&amp;CS=165x165\"/></span></a></li> <li><a data-attr=\"상품상세^포토리뷰^포토 클릭^3\" href=\"#\"><span><img alt=\"\" class=\"thum\" data-value=\"23421938_3\" onerror=\"common.errorResizeImg(this,165)\" onload=\"common.imgLoads(this,165);\" src=\"https://image.oliveyoung.co.kr/uploads/images/gdasEditor/2023/11/05/1699184138481.png?RS=165x0&amp;CS=165x165\"/></span></a></li> </ul> </div> <div class=\"rw-photo-slide\" style=\"display:none\"> <div><img src=\"https://image.oliveyoung.co.kr/uploads/images/gdasEditor/2023/11/05/1699184125531.png\"/></div> <div><img src=\"https://image.oliveyoung.co.kr/uploads/images/gdasEditor/2023/11/05/1699184133139.png\"/></div> <div><img src=\"https://image.oliveyoung.co.kr/uploads/images/gdasEditor/2023/11/05/1699184138481.png\"/></div> </div> <!--## 리뷰 고도화 2차 ## 연관상품 --> <!--## 리뷰 고도화 1차 ## 위치변경 및 삭제--> <!-- ## 리뷰 고도화 1차 ##  : 리뷰제한 카테고리 일경우 안보이게 --> <div class=\"recom_area\"> <button class=\"btn_recom\" data-attr=\"상품상세^도움이돼요^도움이돼요\" id=\"gdas_23421938\" onclick=\"goods.gdas.setRecommGdasToggle('23421938',  'N', {t_page: '상품상세', t_click: '상품상세_도움이돼요', t_profile_name: '미디움웰던안심스텍', t_review_rank_name: '491'});\" type=\"button\">         이 리뷰가 도움이 돼요!     <span class=\"num\" data-attr=\"상품상세^도움이돼요^도움이돼요\">             1           </span> </button> <input name=\"recommCnt_23421938\" type=\"hidden\" value=\"1\"/> </div> <button class=\"btn_dec\" data-attr=\"상품상세^신고하기^신고하기\" onclick=\"goods.gdas.goGdasReportPop('23421938', 'A000000184128', '001', 'N', {t_page: '상품상세', t_click: '상품상세_리뷰신고하기', gdas_seq: '23421938'});\" type=\"button\">신고하기</button> </div> </li>,\n",
       " <li><a data-attr=\"상품상세^포토리뷰^포토 클릭^1\" href=\"#\"><span><img alt=\"\" class=\"thum\" data-value=\"23421938_1\" onerror=\"common.errorResizeImg(this,165)\" onload=\"common.imgLoads(this,165);\" src=\"https://image.oliveyoung.co.kr/uploads/images/gdasEditor/2023/11/05/1699184125531.png?RS=165x0&amp;CS=165x165\"/></span></a></li>,\n",
       " <li><a data-attr=\"상품상세^포토리뷰^포토 클릭^2\" href=\"#\"><span><img alt=\"\" class=\"thum\" data-value=\"23421938_2\" onerror=\"common.errorResizeImg(this,165)\" onload=\"common.imgLoads(this,165);\" src=\"https://image.oliveyoung.co.kr/uploads/images/gdasEditor/2023/11/05/1699184133139.png?RS=165x0&amp;CS=165x165\"/></span></a></li>,\n",
       " <li><a data-attr=\"상품상세^포토리뷰^포토 클릭^3\" href=\"#\"><span><img alt=\"\" class=\"thum\" data-value=\"23421938_3\" onerror=\"common.errorResizeImg(this,165)\" onload=\"common.imgLoads(this,165);\" src=\"https://image.oliveyoung.co.kr/uploads/images/gdasEditor/2023/11/05/1699184138481.png?RS=165x0&amp;CS=165x165\"/></span></a></li>,\n",
       " <li> <div class=\"info\"> <div class=\"user clrfix\"> <a data-attr=\"상품상세^리뷰어프로필^프로필이미지 또는 닉네임 클릭\" href=\"javascript:;\" onclick=\"goods.gdas.hadleClickProductDetailReviewerProfile('M2R2SDU1bjJPdlhOUktWYmFQLytqUT09', { t_page: '상품상세', t_click: '리뷰어_리뷰어프로필', t_profile_name: 'Only1', t_review_rank_name: '536'})\"> <img onerror=\"common.errorProfileImg(this);\" onload=\"common.onLoadProfileImg(this, 60)\" src=\"https://image.oliveyoung.co.kr/uploads/images/mbrProfile/2022/09/13/1663033719109.png\" style=\"display: none;\"/> <div class=\"thum\"> <span class=\"bg\"></span> <img class=\"profileThum_s\" src=\"https://image.oliveyoung.co.kr/uploads/images/mbrProfile/2022/09/13/1663033719109.png?RS=60x79&amp;CS=60x60\" style=\"background:url(https://static.oliveyoung.co.kr/pc-static-root/image/comm/my_picture_base.jpg) no-repeat 0 0;background-size:60px\"/> </div> </a> <!--## 리뷰 고도화 1차 ## : top, id 위치 변경 및 마크업 변경 --> <p class=\"info_user\"> <a class=\"id\" data-attr=\"상품상세^리뷰어프로필^프로필이미지 또는 닉네임 클릭\" href=\"javascript:;\" onclick=\"goods.gdas.hadleClickProductDetailReviewerProfile('M2R2SDU1bjJPdlhOUktWYmFQLytqUT09', { t_page: '상품상세', t_click: '리뷰어_리뷰어프로필', t_profile_name: 'Only1', t_review_rank_name: '536'})\">Only1</a> <!--## 리뷰 고도화 1차 ## :  탑리뷰어 라운지로 이동시킴 --> <a class=\"top\" data-attr=\"상품상세^랭킹순위^순위클릭\" href=\"javascript:;\" onclick=\"goods.gdas.handleClickTopReviewer({t_page: '상품상세', t_click: '리뷰어_탑리뷰어순위', t_review_rank_name: '536'})\">TOP 536</a> </p> <!--## 리뷰 고도화 2차 ## : 명성리뷰어 --> <p class=\"tag\"> <!--피부 컨디션이 --> <!--<strong _tmplitem=\"8\" >--><!-- ## 리뷰 고도화 1차 ## : 위치 변경 및 마크업 변경 --> <span>건성</span> <span>봄웜톤</span> <span>탄력</span> <!--</strong>--> </p> <!--## 리뷰 고도화 1차 ## : 재구매/한달사용 리뷰 --> <div class=\"badge\"> </div> </div> </div> <div class=\"review_cont\"> <div class=\"score_area\"> <span class=\"review_point\"><span class=\"point\" style=\"width:100%\">5점만점에 5점</span></span> <span class=\"date\">2023.11.13</span> </div> <!--## 리뷰 고도화 1차 ## 위치변경 --> <p class=\"item_option\">[옵션] 아토베리어 크림 기획</p> <!--## 리뷰 고도화 1차 ## 위치변경 --> <!--## 리뷰 고도화 1차 ## 위치변경 --> <div class=\"poll_sample\"> <dl class=\"poll_type1\"> <dt><span>피부타입</span></dt> <dd><span class=\"txt\">건성에 좋아요</span></dd> </dl> <dl class=\"poll_type1\"> <dt><span>피부고민</span></dt> <dd><span class=\"txt\">보습에 좋아요</span></dd> </dl> <dl class=\"poll_type1\"> <dt><span>자극도</span></dt> <dd><span class=\"txt\">자극없이 순해요</span></dd> </dl> </div> <!--## 리뷰 고도화 1차 ## 위치변경 --> <div class=\"txt_inner\">피부과 화장품으로 유명한 에스트라 크림💙<br/><br/>구매동기💙<br/>에스트라 크림은 워낙 유명해서 한번쯤 꼭 써보고 싶던 크림입니다. 워낙 아모레퍼시픽 제품들을 다 좋아해서 다음 크림은 에스트라로 꼭 써보고 싶었어요! <br/>올리브영에 입점하고 나서 구매해보게 되었습니다!!<br/><br/>제품특징💙<br/>유명한 크림 속 알갱이들은 손에 열감이 닿으니 금방 잘 녹아들어요! 제가 크림을 좀 두텁게 바르는 스타일인데 흡수가 빨라서 좀 덜 발랐나라는 생각도 듭니다. 이전엔 라네즈 워터뱅크 건성용을 3통 사용했는데 넘 만족했지만 jar 용기가 맘에 안든다는 단점 하나가 잇엇어요!<br/> 에스트라랑 비교했을 때 아직까진 워터뱅크가 더 맘에 드는 거 같긴합니다. 워터뱅크는 바르면 피부에서 뭔가 반짝반짝이는 게 있고 건성용은 제 피부의 건조함을 더 잘 잡아준다고 느껴졌기 때문입니다. 하지만 에스트라도 한통 다 써봐야 진가를 알 수 있을 거 같아서 좀 더 두고보고 쓰랴구요. 그동언은 약간 가격대가 잇다고 느껴졌는데, 세일 기간에 2만원 초반에 구매할 수 있어서 좋았어요! 세일할 때 꼭 구매하세요!</div> <!-- ## 리뷰 고도화 1차 ## : 태그 추가 --> <div class=\"review_thum type1\"> <ul class=\"inner clrfix\"> <li><a data-attr=\"상품상세^포토리뷰^포토 클릭^1\" href=\"#\"><span><img alt=\"\" class=\"thum\" data-value=\"23598326_1\" onerror=\"common.errorResizeImg(this,165)\" onload=\"common.imgLoads(this,165);\" src=\"https://image.oliveyoung.co.kr/uploads/images/gdasEditor/2023/11/13/1699839181266.png?RS=165x0&amp;CS=165x165\"/></span></a></li> <li><a data-attr=\"상품상세^포토리뷰^포토 클릭^2\" href=\"#\"><span><img alt=\"\" class=\"thum\" data-value=\"23598326_2\" onerror=\"common.errorResizeImg(this,165)\" onload=\"common.imgLoads(this,165);\" src=\"https://image.oliveyoung.co.kr/uploads/images/gdasEditor/2023/11/13/1699839185336.png?RS=165x0&amp;CS=165x165\"/></span></a></li> <li><a data-attr=\"상품상세^포토리뷰^포토 클릭^3\" href=\"#\"><span><img alt=\"\" class=\"thum\" data-value=\"23598326_3\" onerror=\"common.errorResizeImg(this,165)\" onload=\"common.imgLoads(this,165);\" src=\"https://image.oliveyoung.co.kr/uploads/images/gdasEditor/2023/11/13/1699839189889.png?RS=165x0&amp;CS=165x165\"/></span></a></li> </ul> </div> <div class=\"rw-photo-slide\" style=\"display:none\"> <div><img src=\"https://image.oliveyoung.co.kr/uploads/images/gdasEditor/2023/11/13/1699839181266.png\"/></div> <div><img src=\"https://image.oliveyoung.co.kr/uploads/images/gdasEditor/2023/11/13/1699839185336.png\"/></div> <div><img src=\"https://image.oliveyoung.co.kr/uploads/images/gdasEditor/2023/11/13/1699839189889.png\"/></div> </div> <!--## 리뷰 고도화 2차 ## 연관상품 --> <!--## 리뷰 고도화 1차 ## 위치변경 및 삭제--> <!-- ## 리뷰 고도화 1차 ##  : 리뷰제한 카테고리 일경우 안보이게 --> <div class=\"recom_area\"> <button class=\"btn_recom\" data-attr=\"상품상세^도움이돼요^도움이돼요\" id=\"gdas_23598326\" onclick=\"goods.gdas.setRecommGdasToggle('23598326',  'N', {t_page: '상품상세', t_click: '상품상세_도움이돼요', t_profile_name: 'Only1', t_review_rank_name: '536'});\" type=\"button\">         이 리뷰가 도움이 돼요!     <span class=\"num\" data-attr=\"상품상세^도움이돼요^도움이돼요\">             0           </span> </button> <input name=\"recommCnt_23598326\" type=\"hidden\" value=\"0\"/> </div> <button class=\"btn_dec\" data-attr=\"상품상세^신고하기^신고하기\" onclick=\"goods.gdas.goGdasReportPop('23598326', 'A000000184128', '001', 'N', {t_page: '상품상세', t_click: '상품상세_리뷰신고하기', gdas_seq: '23598326'});\" type=\"button\">신고하기</button> </div> </li>,\n",
       " <li><a data-attr=\"상품상세^포토리뷰^포토 클릭^1\" href=\"#\"><span><img alt=\"\" class=\"thum\" data-value=\"23598326_1\" onerror=\"common.errorResizeImg(this,165)\" onload=\"common.imgLoads(this,165);\" src=\"https://image.oliveyoung.co.kr/uploads/images/gdasEditor/2023/11/13/1699839181266.png?RS=165x0&amp;CS=165x165\"/></span></a></li>,\n",
       " <li><a data-attr=\"상품상세^포토리뷰^포토 클릭^2\" href=\"#\"><span><img alt=\"\" class=\"thum\" data-value=\"23598326_2\" onerror=\"common.errorResizeImg(this,165)\" onload=\"common.imgLoads(this,165);\" src=\"https://image.oliveyoung.co.kr/uploads/images/gdasEditor/2023/11/13/1699839185336.png?RS=165x0&amp;CS=165x165\"/></span></a></li>,\n",
       " <li><a data-attr=\"상품상세^포토리뷰^포토 클릭^3\" href=\"#\"><span><img alt=\"\" class=\"thum\" data-value=\"23598326_3\" onerror=\"common.errorResizeImg(this,165)\" onload=\"common.imgLoads(this,165);\" src=\"https://image.oliveyoung.co.kr/uploads/images/gdasEditor/2023/11/13/1699839189889.png?RS=165x0&amp;CS=165x165\"/></span></a></li>,\n",
       " <li> <div class=\"info\"> <div class=\"user clrfix\"> <a data-attr=\"상품상세^리뷰어프로필^프로필이미지 또는 닉네임 클릭\" href=\"javascript:;\" onclick=\"goods.gdas.hadleClickProductDetailReviewerProfile('SkhuT2VITWtFNHUxMHJBRDNEbUVoZz09', { t_page: '상품상세', t_click: '리뷰어_리뷰어프로필', t_profile_name: '밤비콩', t_review_rank_name: '975'})\"> <img onerror=\"common.errorProfileImg(this);\" onload=\"common.onLoadProfileImg(this, 60)\" src=\"https://image.oliveyoung.co.kr/uploads/images/mbrProfile/2022/09/16/1663289136347.png\" style=\"display: none;\"/> <div class=\"thum\"> <span class=\"bg\"></span> <img class=\"profileThum_s\" src=\"https://image.oliveyoung.co.kr/uploads/images/mbrProfile/2022/09/16/1663289136347.png?RS=60x60&amp;CS=60x60\" style=\"background:url(https://static.oliveyoung.co.kr/pc-static-root/image/comm/my_picture_base.jpg) no-repeat 0 0;background-size:60px\"/> </div> </a> <!--## 리뷰 고도화 1차 ## : top, id 위치 변경 및 마크업 변경 --> <p class=\"info_user\"> <a class=\"id\" data-attr=\"상품상세^리뷰어프로필^프로필이미지 또는 닉네임 클릭\" href=\"javascript:;\" onclick=\"goods.gdas.hadleClickProductDetailReviewerProfile('SkhuT2VITWtFNHUxMHJBRDNEbUVoZz09', { t_page: '상품상세', t_click: '리뷰어_리뷰어프로필', t_profile_name: '밤비콩', t_review_rank_name: '975'})\">밤비콩</a> <!--## 리뷰 고도화 1차 ## :  탑리뷰어 라운지로 이동시킴 --> <a class=\"top\" data-attr=\"상품상세^랭킹순위^순위클릭\" href=\"javascript:;\" onclick=\"goods.gdas.handleClickTopReviewer({t_page: '상품상세', t_click: '리뷰어_탑리뷰어순위', t_review_rank_name: '975'})\">TOP 975</a> </p> <!--## 리뷰 고도화 2차 ## : 명성리뷰어 --> <p class=\"topreview_N2\"> <span>클렌징, 마스크팩 분야 탑리뷰어</span> </p> <p class=\"tag\"> <!--피부 컨디션이 --> <!--<strong _tmplitem=\"9\" >--><!-- ## 리뷰 고도화 1차 ## : 위치 변경 및 마크업 변경 --> <span>민감성</span> <span>봄웜톤</span> <span>민감성</span> <span>잡티</span> <!--</strong>--> </p> <!--## 리뷰 고도화 1차 ## : 재구매/한달사용 리뷰 --> <div class=\"badge\"> </div> </div> </div> <div class=\"review_cont\"> <div class=\"score_area\"> <span class=\"review_point\"><span class=\"point\" style=\"width:100%\">5점만점에 5점</span></span> <span class=\"date\">2023.11.12</span> </div> <!--## 리뷰 고도화 1차 ## 위치변경 --> <p class=\"item_option\">[옵션] 아토베리어 크림 기획</p> <!--## 리뷰 고도화 1차 ## 위치변경 --> <!--## 리뷰 고도화 1차 ## 위치변경 --> <div class=\"poll_sample\"> <dl class=\"poll_type1\"> <dt><span>피부타입</span></dt> <dd><span class=\"txt\">건성에 좋아요</span></dd> </dl> <dl class=\"poll_type1\"> <dt><span>피부고민</span></dt> <dd><span class=\"txt\">보습에 좋아요</span></dd> </dl> <dl class=\"poll_type1\"> <dt><span>자극도</span></dt> <dd><span class=\"txt\">자극없이 순해요</span></dd> </dl> </div> <!--## 리뷰 고도화 1차 ## 위치변경 --> <div class=\"txt_inner\">갑자기 좁쌀 트러블이 엄청 생겨서 스트레스 받아 하고 있었는데 ㅠㅠ... 지인이 추천해줘서 사용하게 되었어요~!<br/>아직까지는 잘 모르겠지만 이 제품을 사용하고 나서 트러블이 더 난다거나 그런거는 없었어요 ㅎㅎ<br/>알갱이?? 같은게 느껴지는데 자극적인 것도 없고 수분이 가득 해서 좋아요 ㅎㅎ  기존에 타사크림을 사용했는데 트러블이 잔뜩 올라와서 크림이 문제인거라 생각도 못하고 계속 사용했다가 중단하니 크림이 안 맞았더라구요 ㅠㅠ 요 제품은 피부과에서도 쓴다니 믿고 사용합니다 ㅎㅎ<br/>요 제품은 워낙 유명하니 믿음이 가요 ㅎㅎ<br/>볼쪽이 엄청난 건성인데 볼쪽이랑 턱쪽에 엄청 나더라구요 ㅠㅠ..<br/>좁쌀 트러블은 수분 관리가 중요하다던데 잘 사용해볼게요!! 수분은 꽉 잡아주긴 해요~ 그리고 이번에 기획세트라 저렴하게 구매했어요!!^^</div> <!-- ## 리뷰 고도화 1차 ## : 태그 추가 --> <div class=\"review_thum type1\"> <ul class=\"inner clrfix\"> <li><a data-attr=\"상품상세^포토리뷰^포토 클릭^1\" href=\"#\"><span><img alt=\"\" class=\"thum\" data-value=\"23581408_1\" onerror=\"common.errorResizeImg(this,165)\" onload=\"common.imgLoads(this,165);\" src=\"https://image.oliveyoung.co.kr/uploads/images/gdasEditor/2023/11/12/1699776495171.png?RS=330x0&amp;CS=124x124\"/></span></a></li> <li><a data-attr=\"상품상세^포토리뷰^포토 클릭^2\" href=\"#\"><span><img alt=\"\" class=\"thum\" data-value=\"23581408_2\" onerror=\"common.errorResizeImg(this,165)\" onload=\"common.imgLoads(this,165);\" src=\"https://image.oliveyoung.co.kr/uploads/images/gdasEditor/2023/11/12/1699776500749.png?RS=330x0&amp;CS=124x124\"/></span></a></li> <li><a data-attr=\"상품상세^포토리뷰^포토 클릭^3\" href=\"#\"><span><img alt=\"\" class=\"thum\" data-value=\"23581408_3\" onerror=\"common.errorResizeImg(this,165)\" onload=\"common.imgLoads(this,165);\" src=\"https://image.oliveyoung.co.kr/uploads/images/gdasEditor/2023/11/12/1699776503280.png?RS=330x0&amp;CS=124x124\"/></span></a></li> </ul> </div> <div class=\"rw-photo-slide\" style=\"display:none\"> <div><img src=\"https://image.oliveyoung.co.kr/uploads/images/gdasEditor/2023/11/12/1699776495171.png\"/></div> <div><img src=\"https://image.oliveyoung.co.kr/uploads/images/gdasEditor/2023/11/12/1699776500749.png\"/></div> <div><img src=\"https://image.oliveyoung.co.kr/uploads/images/gdasEditor/2023/11/12/1699776503280.png\"/></div> </div> <!--## 리뷰 고도화 2차 ## 연관상품 --> <!--## 리뷰 고도화 1차 ## 위치변경 및 삭제--> <!-- ## 리뷰 고도화 1차 ##  : 리뷰제한 카테고리 일경우 안보이게 --> <div class=\"recom_area\"> <button class=\"btn_recom\" data-attr=\"상품상세^도움이돼요^도움이돼요\" id=\"gdas_23581408\" onclick=\"goods.gdas.setRecommGdasToggle('23581408',  'N', {t_page: '상품상세', t_click: '상품상세_도움이돼요', t_profile_name: '밤비콩', t_review_rank_name: '975'});\" type=\"button\">         이 리뷰가 도움이 돼요!     <span class=\"num\" data-attr=\"상품상세^도움이돼요^도움이돼요\">             0           </span> </button> <input name=\"recommCnt_23581408\" type=\"hidden\" value=\"0\"/> </div> <button class=\"btn_dec\" data-attr=\"상품상세^신고하기^신고하기\" onclick=\"goods.gdas.goGdasReportPop('23581408', 'A000000184128', '001', 'N', {t_page: '상품상세', t_click: '상품상세_리뷰신고하기', gdas_seq: '23581408'});\" type=\"button\">신고하기</button> </div> </li>,\n",
       " <li><a data-attr=\"상품상세^포토리뷰^포토 클릭^1\" href=\"#\"><span><img alt=\"\" class=\"thum\" data-value=\"23581408_1\" onerror=\"common.errorResizeImg(this,165)\" onload=\"common.imgLoads(this,165);\" src=\"https://image.oliveyoung.co.kr/uploads/images/gdasEditor/2023/11/12/1699776495171.png?RS=330x0&amp;CS=124x124\"/></span></a></li>,\n",
       " <li><a data-attr=\"상품상세^포토리뷰^포토 클릭^2\" href=\"#\"><span><img alt=\"\" class=\"thum\" data-value=\"23581408_2\" onerror=\"common.errorResizeImg(this,165)\" onload=\"common.imgLoads(this,165);\" src=\"https://image.oliveyoung.co.kr/uploads/images/gdasEditor/2023/11/12/1699776500749.png?RS=330x0&amp;CS=124x124\"/></span></a></li>,\n",
       " <li><a data-attr=\"상품상세^포토리뷰^포토 클릭^3\" href=\"#\"><span><img alt=\"\" class=\"thum\" data-value=\"23581408_3\" onerror=\"common.errorResizeImg(this,165)\" onload=\"common.imgLoads(this,165);\" src=\"https://image.oliveyoung.co.kr/uploads/images/gdasEditor/2023/11/12/1699776503280.png?RS=330x0&amp;CS=124x124\"/></span></a></li>,\n",
       " <li> <div class=\"info\"> <div class=\"user clrfix\"> <a data-attr=\"상품상세^리뷰어프로필^프로필이미지 또는 닉네임 클릭\" href=\"javascript:;\" onclick=\"goods.gdas.hadleClickProductDetailReviewerProfile('YytlZGtXRDk1VzdmejgxZHYvMUxZZz09', { t_page: '상품상세', t_click: '리뷰어_리뷰어프로필', t_profile_name: '뜨요니', t_review_rank_name: '1199'})\"> <img onerror=\"common.errorProfileImg(this);\" onload=\"common.onLoadProfileImg(this, 60)\" src=\"https://image.oliveyoung.co.kr/uploads/images/mbrProfile/2023/07/24/1690210558746.png\" style=\"display: none;\"/> <div class=\"thum\"> <span class=\"bg\"></span> <img class=\"profileThum_s\" src=\"https://image.oliveyoung.co.kr/uploads/images/mbrProfile/2023/07/24/1690210558746.png?RS=60x79&amp;CS=60x60\" style=\"background:url(https://static.oliveyoung.co.kr/pc-static-root/image/comm/my_picture_base.jpg) no-repeat 0 0;background-size:60px\"/> </div> </a> <!--## 리뷰 고도화 1차 ## : top, id 위치 변경 및 마크업 변경 --> <p class=\"info_user\"> <a class=\"id\" data-attr=\"상품상세^리뷰어프로필^프로필이미지 또는 닉네임 클릭\" href=\"javascript:;\" onclick=\"goods.gdas.hadleClickProductDetailReviewerProfile('YytlZGtXRDk1VzdmejgxZHYvMUxZZz09', { t_page: '상품상세', t_click: '리뷰어_리뷰어프로필', t_profile_name: '뜨요니', t_review_rank_name: '1199'})\">뜨요니</a> <!--## 리뷰 고도화 1차 ## :  탑리뷰어 라운지로 이동시킴 --> <a class=\"top\" data-attr=\"상품상세^랭킹순위^순위클릭\" href=\"javascript:;\" onclick=\"goods.gdas.handleClickTopReviewer({t_page: '상품상세', t_click: '리뷰어_탑리뷰어순위', t_review_rank_name: '1199'})\">TOP 1199</a> </p> <!--## 리뷰 고도화 2차 ## : 명성리뷰어 --> <p class=\"topreview_N2\"> <span>마스크팩 분야 탑리뷰어</span> </p> <p class=\"tag\"> <!--피부 컨디션이 --> <!--<strong _tmplitem=\"10\" >--><!-- ## 리뷰 고도화 1차 ## : 위치 변경 및 마크업 변경 --> <span>복합성</span> <span>여름쿨톤</span> <span>모공</span> <span>미백</span> <!--</strong>--> </p> <!--## 리뷰 고도화 1차 ## : 재구매/한달사용 리뷰 --> <div class=\"badge\"> </div> </div> </div> <div class=\"review_cont\"> <div class=\"score_area\"> <span class=\"review_point\"><span class=\"point\" style=\"width:100%\">5점만점에 5점</span></span> <span class=\"date\">2023.11.11</span> </div> <!--## 리뷰 고도화 1차 ## 위치변경 --> <p class=\"item_option\">[옵션] 아토베리어 크림 기획</p> <!--## 리뷰 고도화 1차 ## 위치변경 --> <!--## 리뷰 고도화 1차 ## 위치변경 --> <div class=\"poll_sample\"> <dl class=\"poll_type1\"> <dt><span>피부타입</span></dt> <dd><span class=\"txt\">복합성에 좋아요</span></dd> </dl> <dl class=\"poll_type1\"> <dt><span>피부고민</span></dt> <dd><span class=\"txt\">보습에 좋아요</span></dd> </dl> <dl class=\"poll_type1\"> <dt><span>자극도</span></dt> <dd><span class=\"txt\">자극없이 순해요</span></dd> </dl> </div> <!--## 리뷰 고도화 1차 ## 위치변경 --> <div class=\"txt_inner\">1. 사게 된 이유💕<br/>샘플로 받은거 여행가서 써보고 좋아서 오특할때 본품샀어용<br/><br/>2. 장점💯<br/>캡슐?알갱이 녹을때까지 돌려주며 흡수시키는데 재밌어요약간 그 느낌이 좋아서 중독된듯!!!<br/>지인짜 순해요! 무향무자극<br/>보습에 좋고 겨울철 스킨마무리단계로 쵝오<br/><br/>3. 아쉬운점😔<br/> 보습보습보습뿐인거?!<br/>비싼거요<br/><br/>4. 팁 or 추천 여부🍀<br/>할인만 한다면 오특이나 행사할때, 한개쯤 구비해두시는거 추천이요!<br/>요즘 좋은거 많이나오니 브랜드마다 보습제품 1개씩만사셔서 여러가지 써보세요! 그래야 자기피부에 맞는거 찾고 정착하기좋은거같아요</div> <!-- ## 리뷰 고도화 1차 ## : 태그 추가 --> <div class=\"review_thum type1\"> <ul class=\"inner clrfix\"> <li><a data-attr=\"상품상세^포토리뷰^포토 클릭^1\" href=\"#\"><span><img alt=\"\" class=\"thum\" data-value=\"23556365_1\" onerror=\"common.errorResizeImg(this,165)\" onload=\"common.imgLoads(this,165);\" src=\"https://image.oliveyoung.co.kr/uploads/images/gdasEditor/2023/11/11/1699639328327.png?RS=165x165&amp;CS=165x165\"/></span></a></li> <li><a data-attr=\"상품상세^포토리뷰^포토 클릭^2\" href=\"#\"><span><img alt=\"\" class=\"thum\" data-value=\"23556365_2\" onerror=\"common.errorResizeImg(this,165)\" onload=\"common.imgLoads(this,165);\" src=\"https://image.oliveyoung.co.kr/uploads/images/gdasEditor/2023/11/11/1699639339178.png?RS=165x165&amp;CS=165x165\"/></span></a></li> <li><a data-attr=\"상품상세^포토리뷰^포토 클릭^3\" href=\"#\"><span><img alt=\"\" class=\"thum\" data-value=\"23556365_3\" onerror=\"common.errorResizeImg(this,165)\" onload=\"common.imgLoads(this,165);\" src=\"https://image.oliveyoung.co.kr/uploads/images/gdasEditor/2023/11/11/1699639354950.png?RS=165x165&amp;CS=165x165\"/></span></a></li> </ul> </div> <div class=\"rw-photo-slide\" style=\"display:none\"> <div><img src=\"https://image.oliveyoung.co.kr/uploads/images/gdasEditor/2023/11/11/1699639328327.png\"/></div> <div><img src=\"https://image.oliveyoung.co.kr/uploads/images/gdasEditor/2023/11/11/1699639339178.png\"/></div> <div><img src=\"https://image.oliveyoung.co.kr/uploads/images/gdasEditor/2023/11/11/1699639354950.png\"/></div> </div> <!--## 리뷰 고도화 2차 ## 연관상품 --> <!--## 리뷰 고도화 1차 ## 위치변경 및 삭제--> <!-- ## 리뷰 고도화 1차 ##  : 리뷰제한 카테고리 일경우 안보이게 --> <div class=\"recom_area\"> <button class=\"btn_recom\" data-attr=\"상품상세^도움이돼요^도움이돼요\" id=\"gdas_23556365\" onclick=\"goods.gdas.setRecommGdasToggle('23556365',  'N', {t_page: '상품상세', t_click: '상품상세_도움이돼요', t_profile_name: '뜨요니', t_review_rank_name: '1199'});\" type=\"button\">         이 리뷰가 도움이 돼요!     <span class=\"num\" data-attr=\"상품상세^도움이돼요^도움이돼요\">             0           </span> </button> <input name=\"recommCnt_23556365\" type=\"hidden\" value=\"0\"/> </div> <button class=\"btn_dec\" data-attr=\"상품상세^신고하기^신고하기\" onclick=\"goods.gdas.goGdasReportPop('23556365', 'A000000184128', '001', 'N', {t_page: '상품상세', t_click: '상품상세_리뷰신고하기', gdas_seq: '23556365'});\" type=\"button\">신고하기</button> </div> </li>,\n",
       " <li><a data-attr=\"상품상세^포토리뷰^포토 클릭^1\" href=\"#\"><span><img alt=\"\" class=\"thum\" data-value=\"23556365_1\" onerror=\"common.errorResizeImg(this,165)\" onload=\"common.imgLoads(this,165);\" src=\"https://image.oliveyoung.co.kr/uploads/images/gdasEditor/2023/11/11/1699639328327.png?RS=165x165&amp;CS=165x165\"/></span></a></li>,\n",
       " <li><a data-attr=\"상품상세^포토리뷰^포토 클릭^2\" href=\"#\"><span><img alt=\"\" class=\"thum\" data-value=\"23556365_2\" onerror=\"common.errorResizeImg(this,165)\" onload=\"common.imgLoads(this,165);\" src=\"https://image.oliveyoung.co.kr/uploads/images/gdasEditor/2023/11/11/1699639339178.png?RS=165x165&amp;CS=165x165\"/></span></a></li>,\n",
       " <li><a data-attr=\"상품상세^포토리뷰^포토 클릭^3\" href=\"#\"><span><img alt=\"\" class=\"thum\" data-value=\"23556365_3\" onerror=\"common.errorResizeImg(this,165)\" onload=\"common.imgLoads(this,165);\" src=\"https://image.oliveyoung.co.kr/uploads/images/gdasEditor/2023/11/11/1699639354950.png?RS=165x165&amp;CS=165x165\"/></span></a></li>]"
      ]
     },
     "execution_count": 17,
     "metadata": {},
     "output_type": "execute_result"
    }
   ],
   "source": [
    "_table.find_all('li')"
   ]
  },
  {
   "cell_type": "code",
   "execution_count": 30,
   "id": "f5a46516",
   "metadata": {},
   "outputs": [
    {
     "data": {
      "text/plain": [
       "'올리브지킴이'"
      ]
     },
     "execution_count": 30,
     "metadata": {},
     "output_type": "execute_result"
    }
   ],
   "source": [
    "_table.find_all('li')[0].find('p',class_='info_user').find('a').text"
   ]
  },
  {
   "cell_type": "code",
   "execution_count": null,
   "id": "73cdc2ff",
   "metadata": {},
   "outputs": [],
   "source": []
  },
  {
   "cell_type": "code",
   "execution_count": null,
   "id": "4aea5e4e",
   "metadata": {},
   "outputs": [],
   "source": []
  },
  {
   "cell_type": "code",
   "execution_count": null,
   "id": "911eb7ca",
   "metadata": {},
   "outputs": [],
   "source": []
  },
  {
   "cell_type": "code",
   "execution_count": null,
   "id": "cdc7a624",
   "metadata": {},
   "outputs": [],
   "source": []
  },
  {
   "cell_type": "code",
   "execution_count": null,
   "id": "fbc36b2e",
   "metadata": {},
   "outputs": [],
   "source": []
  },
  {
   "cell_type": "code",
   "execution_count": null,
   "id": "d29c1146",
   "metadata": {},
   "outputs": [],
   "source": []
  },
  {
   "cell_type": "code",
   "execution_count": null,
   "id": "ea41a2e3",
   "metadata": {},
   "outputs": [],
   "source": []
  },
  {
   "cell_type": "code",
   "execution_count": null,
   "id": "67fb144f",
   "metadata": {},
   "outputs": [],
   "source": []
  }
 ],
 "metadata": {
  "kernelspec": {
   "display_name": "Python 3 (ipykernel)",
   "language": "python",
   "name": "python3"
  },
  "language_info": {
   "codemirror_mode": {
    "name": "ipython",
    "version": 3
   },
   "file_extension": ".py",
   "mimetype": "text/x-python",
   "name": "python",
   "nbconvert_exporter": "python",
   "pygments_lexer": "ipython3",
   "version": "3.11.3"
  }
 },
 "nbformat": 4,
 "nbformat_minor": 5
}
